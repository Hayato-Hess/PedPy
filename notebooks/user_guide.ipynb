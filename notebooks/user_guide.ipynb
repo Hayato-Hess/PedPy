{
 "cells": [
  {
   "cell_type": "code",
   "execution_count": 1,
   "metadata": {
    "collapsed": false,
    "jupyter": {
     "outputs_hidden": false
    },
    "tags": [
     "remove-input"
    ]
   },
   "outputs": [],
   "source": [
    "import pathlib\n",
    "import numpy as np\n",
    "import pandas as pd\n",
    "import shapely\n",
    "import warnings\n",
    "\n",
    "warnings.filterwarnings(\"ignore\")"
   ]
  },
  {
   "cell_type": "markdown",
   "metadata": {},
   "source": [
    "# User Guide\n",
    "\n",
    "This user guide will showcase the capabilities of *PedPy*. \n",
    "By following this guide you will learn how to set up your analysis and compute different metrics from the movement data.\n",
    "This guide is designed as a [Jupyter notebook](https://jupyter.org/) where the individual cells can be executed in the given order, for trying it yourself you can copy the individual cells in a Python script and run it, or download the notebook {download}`here <./user_guide.ipynb>` it directly and run it locally.\n",
    "\n",
    "If you use *PedPy* in your work, please cite it using the following information from zenodo:\n",
    "[![DOI](https://zenodo.org/badge/DOI/10.5281/zenodo.7386931.svg)](https://doi.org/10.5281/zenodo.7386931)\n",
    "\n",
    "This is a bottleneck experiment conducted at the University of Wuppertal in 2018.\n",
    "You can see the basic setup of the experiment in the picture below:\n",
    "\n",
    "```{eval-rst}\n",
    ".. figure:: demo-data/bottleneck/040_c_56_h-.png\n",
    "    :width: 400px\n",
    "    :align: center\n",
    "```\n",
    "\n",
    "The data for this experiment is available {download}`here <demo-data/bottleneck/040_c_56_h-.txt>`, which belongs to this [experimental series](https://doi.org/10.34735/ped.2018.1) and is part of the publication [\\\"Crowds in front of bottlenecks at entrances from the perspective of physics and social psychology\\\"](https://doi.org/10.1098/rsif.2019.0871)."
   ]
  },
  {
   "cell_type": "markdown",
   "metadata": {
    "collapsed": false,
    "jupyter": {
     "outputs_hidden": false
    }
   },
   "source": [
    "## Analysis set-up\n",
    "\n",
    "The first step we will take, is to set up the analysis environment, this means define the areas where pedestrians can walk and put existing obstacles in it.\n",
    "Also, we will define which areas are of interest for the later analysis."
   ]
  },
  {
   "cell_type": "markdown",
   "metadata": {
    "collapsed": false,
    "jupyter": {
     "outputs_hidden": false
    }
   },
   "source": [
    "### Walkable area\n",
    "\n",
    "In the beginning we will define the {class}`walkable area <geometry.WalkableArea>` in which the pedestrian can move. \n",
    "For the used bottleneck experiment was conducted in the following set up:\n",
    "\n",
    "\n",
    "```{eval-rst}\n",
    ".. figure:: demo-data/bottleneck/experimental_setup.png\n",
    "    :width: 50 %\n",
    "    :align: center\n",
    "```\n",
    "\n",
    "The run handled in this user guide had a bottleneck width of 0.5m and w=5.6m.\n",
    "\n",
    "Below is the code for creating such a {class}`walkable area <geometry.WalkableArea>`:"
   ]
  },
  {
   "cell_type": "code",
   "execution_count": 2,
   "metadata": {
    "collapsed": false,
    "jupyter": {
     "outputs_hidden": false
    }
   },
   "outputs": [],
   "source": [
    "from pedpy import WalkableArea\n",
    "\n",
    "walkable_area = WalkableArea(\n",
    "    # complete area\n",
    "    [\n",
    "        (3.5, -2),\n",
    "        (3.5, 8),\n",
    "        (-3.5, 8),\n",
    "        (-3.5, -2),\n",
    "    ],\n",
    "    obstacles=[\n",
    "        # left barrier\n",
    "        [\n",
    "            (-0.7, -1.1),\n",
    "            (-0.25, -1.1),\n",
    "            (-0.25, -0.15),\n",
    "            (-0.4, 0.0),\n",
    "            (-2.8, 0.0),\n",
    "            (-2.8, 6.7),\n",
    "            (-3.05, 6.7),\n",
    "            (-3.05, -0.3),\n",
    "            (-0.7, -0.3),\n",
    "            (-0.7, -1.0),\n",
    "        ],\n",
    "        # right barrier\n",
    "        [\n",
    "            (0.25, -1.1),\n",
    "            (0.7, -1.1),\n",
    "            (0.7, -0.3),\n",
    "            (3.05, -0.3),\n",
    "            (3.05, 6.7),\n",
    "            (2.8, 6.7),\n",
    "            (2.8, 0.0),\n",
    "            (0.4, 0.0),\n",
    "            (0.25, -0.15),\n",
    "            (0.25, -1.1),\n",
    "        ],\n",
    "    ],\n",
    ")"
   ]
  },
  {
   "cell_type": "code",
   "execution_count": 3,
   "metadata": {
    "collapsed": false,
    "jupyter": {
     "outputs_hidden": false
    },
    "tags": [
     "hide-input"
    ]
   },
   "outputs": [
    {
     "data": {
      "image/png": "[encoded data removed]",
      "text/plain": [
       "<Figure size 640x480 with 1 Axes>"
      ]
     },
     "metadata": {},
     "output_type": "display_data"
    }
   ],
   "source": [
    "from pedpy import plot_walkable_area\n",
    "import matplotlib.pyplot as plt\n",
    "\n",
    "plot_walkable_area(walkable_area=walkable_area).set_aspect(\"equal\")\n",
    "plt.show()"
   ]
  },
  {
   "cell_type": "markdown",
   "metadata": {
    "collapsed": false,
    "jupyter": {
     "outputs_hidden": false
    }
   },
   "source": [
    "### Prepare measurement details\n",
    "\n",
    "After we defined where the pedestrians can move, we now need to define in which regions we want to analyze in more details. \n",
    "This regions can either be a specific line, an area, or the whole {class}`walkable area <geometry.WalkableArea>`.\n",
    "\n",
    "In case of this bottleneck the most interesting area is a little bit in front of the bottleneck (here 0.5m) and the line at the beginning of the bottleneck.\n",
    "The area is slightly in front of the bottleneck as here the highest density occur. \n",
    "In *PedPy* such areas are called {class}`~geometry.MeasurementArea` and the lines {class}`~geometry.MeasurementLine`.\n",
    "Below you can see how to define these:"
   ]
  },
  {
   "cell_type": "code",
   "execution_count": 4,
   "metadata": {
    "collapsed": false,
    "jupyter": {
     "outputs_hidden": false
    }
   },
   "outputs": [],
   "source": [
    "from pedpy import MeasurementArea, MeasurementLine\n",
    "\n",
    "measurement_area = MeasurementArea(\n",
    "    [(-0.4, 0.5), (0.4, 0.5), (0.4, 1.3), (-0.4, 1.3)]\n",
    ")\n",
    "\n",
    "measurement_line = MeasurementLine([(0.4, 0), (-0.4, 0)])"
   ]
  },
  {
   "cell_type": "markdown",
   "metadata": {},
   "source": [
    "The corresponding measurement setup looks like:"
   ]
  },
  {
   "cell_type": "code",
   "execution_count": 5,
   "metadata": {
    "tags": [
     "hide-input"
    ]
   },
   "outputs": [
    {
     "data": {
      "image/png": "[encoded data removed]",
      "text/plain": [
       "<Figure size 640x480 with 1 Axes>"
      ]
     },
     "metadata": {},
     "output_type": "display_data"
    }
   ],
   "source": [
    "from pedpy import plot_measurement_setup\n",
    "import matplotlib.pyplot as plt\n",
    "\n",
    "plot_measurement_setup(\n",
    "    walkable_area=walkable_area,\n",
    "    measurement_lines=[measurement_line],\n",
    "    ml_width=2,\n",
    "    measurement_areas=[measurement_area],\n",
    "    ma_line_width=2,\n",
    "    ma_alpha=0.2,\n",
    ").set_aspect(\"equal\")\n",
    "plt.show()"
   ]
  },
  {
   "cell_type": "markdown",
   "metadata": {
    "collapsed": false,
    "jupyter": {
     "outputs_hidden": false
    }
   },
   "source": [
    "### Importing pedestrian movement data\n",
    "\n",
    "The pedestrian movement data in *PedPy* is called {class}`trajectory data<trajectory_data.TrajectoryData>`.\n",
    "\n",
    "*PedPy* works with {class}`trajectory data<trajectory_data.TrajectoryData>` which can be created from an import function for specific data files alternatively from a {class}`~pandas.DataFrame` with the following columns:\n",
    "\n",
    "- \"id\": unique numeric identifier for each person\n",
    "- \"frame\": index of video frame where the positions were extracted\n",
    "- \"x\", \"y\": position of the person (in meter) "
   ]
  },
  {
   "cell_type": "markdown",
   "metadata": {},
   "source": [
    "#### Loading from Pandas DataFrame\n",
    "\n",
    "To construct the  {class}`trajectory data<trajectory_data.TrajectoryData>` from a {class}`~pandas.DataFrame` you also need to provide the frame rate at which the data was recorded.\n",
    "If you have both the construction of the {class}`trajectory data<trajectory_data.TrajectoryData>` can be done with:"
   ]
  },
  {
   "cell_type": "code",
   "execution_count": 6,
   "metadata": {},
   "outputs": [],
   "source": [
    "from pedpy import TrajectoryData\n",
    "\n",
    "data = pd.DataFrame(\n",
    "    [[0, 1, 0, 0]],\n",
    "    columns=[\"id\", \"frame\", \"x\", \"y\"],\n",
    ")\n",
    "trajectory_data = TrajectoryData(data=data, frame_rate=25.0)"
   ]
  },
  {
   "cell_type": "markdown",
   "metadata": {
    "collapsed": false,
    "jupyter": {
     "outputs_hidden": false
    }
   },
   "source": [
    "Alternatively, the data can be also loaded from any file format that is supported by *Pandas*, see the [documentation](https://pandas.pydata.org/pandas-docs/version/2.0/user_guide/io.html) for more details.\n"
   ]
  },
  {
   "cell_type": "markdown",
   "metadata": {
    "collapsed": false,
    "jupyter": {
     "outputs_hidden": false
    }
   },
   "source": [
    "#### Loading from text trajectory files\n",
    "\n",
    "*Pedpy* can load trajectories, if they are stored as the {class}`trajectory data<trajectory_data.TrajectoryData>` provided in the [Jülich Data Archive](https://ped.fz-juelich.de/da/doku.php) directly.\n",
    "If you have text files in same format, you can load them in the same way too:\n",
    "\n",
    "- values are separated by any whitespace, e.g., space, tab\n",
    "- file has at least 4 columns in the following order: \"id\", \"frame\", \"x\", \"y\"\n",
    "- file may contain comment lines with `#` at in the beginning\n",
    "\n",
    "For meaningful analysis (and loading of the trajectory file) you also need\n",
    "- unit of the trajectory (m or cm)\n",
    "- frame rate\n",
    "\n",
    "For recent trajectory they are encoded in the header of the file, for older you may need to lead the documentation and provide the information in the loading process.\n",
    "\n",
    "**Examples:**\n",
    "With frame rate, but no unit\n",
    "```\n",
    "# description: UNI_CORR_500_01\n",
    "# framerate: 25.00\n",
    "#geometry: geometry.xml\n",
    "\n",
    "# PersID\tFrame\tX\tY\tZ\n",
    "1\t98\t4.6012\t1.8909\t1.7600\n",
    "1\t99\t4.5359\t1.8976\t1.7600\n",
    "1\t100\t4.4470\t1.9304\t1.7600\n",
    "...\n",
    "```\n",
    "\n",
    "No header at all:\n",
    "```\n",
    "1 27 164.834 780.844 168.937\n",
    "1 28 164.835 771.893 168.937\n",
    "1 29 163.736 762.665 168.937\n",
    "1 30 161.967 753.088 168.937\n",
    "...\n",
    "```\n",
    "\n",
    "If your data is structured in a different way please take a look at the next section.\n",
    "Since the data we want to analyze is from the data archive, we can directly load the {class}`trajectory data<trajectory_data.TrajectoryData>` with *PedPy*:  "
   ]
  },
  {
   "cell_type": "code",
   "execution_count": 7,
   "metadata": {
    "collapsed": false,
    "jupyter": {
     "outputs_hidden": false
    }
   },
   "outputs": [],
   "source": [
    "from pedpy import load_trajectory, TrajectoryUnit\n",
    "\n",
    "traj = load_trajectory(\n",
    "    trajectory_file=pathlib.Path(\"demo-data/bottleneck/040_c_56_h-.txt\"),\n",
    "    default_unit=TrajectoryUnit.METER,  # needs to be provided as it not defined in the file\n",
    "    # default_frame_rate=25., # can be ignored here as the frame rate is defined in the file\n",
    ")"
   ]
  },
  {
   "cell_type": "markdown",
   "metadata": {
    "collapsed": false,
    "jupyter": {
     "outputs_hidden": false
    }
   },
   "source": [
    "The loaded {class}`trajectory data<trajectory_data.TrajectoryData>` look like:"
   ]
  },
  {
   "cell_type": "code",
   "execution_count": 8,
   "metadata": {
    "collapsed": false,
    "jupyter": {
     "outputs_hidden": false
    },
    "tags": [
     "hide-input"
    ]
   },
   "outputs": [
    {
     "data": {
      "image/png": "[encoded data removed]",
      "text/plain": [
       "<Figure size 640x480 with 1 Axes>"
      ]
     },
     "metadata": {},
     "output_type": "display_data"
    }
   ],
   "source": [
    "from pedpy import plot_trajectories\n",
    "import matplotlib.pyplot as plt\n",
    "\n",
    "plot_trajectories(traj=traj).set_aspect(\"equal\")\n",
    "plt.show()"
   ]
  },
  {
   "cell_type": "markdown",
   "metadata": {
    "collapsed": false,
    "jupyter": {
     "outputs_hidden": false
    }
   },
   "source": [
    "#### Loading from hdf5 trajectory files\n",
    "\n",
    "For some experiments the [Jülich Data Archive](https://ped.fz-juelich.de/da/doku.php) also provides [HDF5](https://www.hdfgroup.org/HDF5) trajectory files, with a structure described [here](https://ped.fz-juelich.de/da/doku.php?id=info).\n",
    "These data are from a different experiment, and are only used to demonstrate how to load HDF5 files, it can be downloaded {download}`here <demo-data/single_file/00_01a.h5>`.\n",
    "\n",
    "To make the data usable for *PedPy* use:"
   ]
  },
  {
   "cell_type": "code",
   "execution_count": 9,
   "metadata": {
    "collapsed": false,
    "jupyter": {
     "outputs_hidden": false
    }
   },
   "outputs": [],
   "source": [
    "from pedpy import (\n",
    "    TrajectoryData,\n",
    "    load_trajectory_from_ped_data_archive_hdf5,\n",
    "    load_walkable_area_from_ped_data_archive_hdf5,\n",
    ")\n",
    "import pathlib\n",
    "\n",
    "h5_file = pathlib.Path(\"demo-data/single_file/00_01a.h5\")\n",
    "\n",
    "traj_h5 = load_trajectory_from_ped_data_archive_hdf5(trajectory_file=h5_file)\n",
    "walkable_area_h5 = load_walkable_area_from_ped_data_archive_hdf5(\n",
    "    trajectory_file=h5_file\n",
    ")"
   ]
  },
  {
   "cell_type": "code",
   "execution_count": 10,
   "metadata": {
    "tags": [
     "hide-input"
    ]
   },
   "outputs": [
    {
     "data": {
      "image/png": "[encoded data removed]",
      "text/plain": [
       "<Figure size 640x480 with 1 Axes>"
      ]
     },
     "metadata": {},
     "output_type": "display_data"
    }
   ],
   "source": [
    "import matplotlib.pyplot as plt\n",
    "from pedpy import plot_trajectories\n",
    "\n",
    "plot_trajectories(traj=traj_h5, walkable_area=walkable_area_h5).set_aspect(\n",
    "    \"equal\"\n",
    ")\n",
    "plt.show()"
   ]
  },
  {
   "cell_type": "markdown",
   "metadata": {},
   "source": [
    "#### Loading from Viswalk trajectory files\n",
    "\n",
    "It is also possible to load trajectory files from [Viswalk](https://www.ptvgroup.com/en/products/pedestrian-simulation-software-ptv-viswalk) directly into *PedPy*. \n",
    "The expected format is a CSV file with `;` as delimiter, and it should contain at least the following columns: `NO`, `SIMSEC`, `COORDCENTX`, `COORDCENTY`.\n",
    "Comment lines may start with a `*` and will be ignored.\n",
    "\n",
    ":::{important}\n",
    "Currently only Viswalk trajectory files, which use the simulation time (`SIMSEC`) are supported.\n",
    ":::\n",
    "\n",
    "\n",
    "To make the data usable for *PedPy* use:"
   ]
  },
  {
   "cell_type": "code",
   "execution_count": 11,
   "metadata": {},
   "outputs": [],
   "source": [
    "from pedpy import (\n",
    "    TrajectoryData,\n",
    "    load_trajectory_from_viswalk,\n",
    ")\n",
    "import pathlib\n",
    "\n",
    "viswalk_file = pathlib.Path(\"demo-data/viswalk/example.pp\")\n",
    "\n",
    "traj_viswalk = load_trajectory_from_viswalk(trajectory_file=viswalk_file)"
   ]
  },
  {
   "cell_type": "code",
   "execution_count": 12,
   "metadata": {
    "tags": [
     "hide-input"
    ]
   },
   "outputs": [
    {
     "data": {
      "image/png": "[encoded data removed]",
      "text/plain": [
       "<Figure size 640x480 with 1 Axes>"
      ]
     },
     "metadata": {},
     "output_type": "display_data"
    }
   ],
   "source": [
    "import matplotlib.pyplot as plt\n",
    "from pedpy import plot_trajectories\n",
    "\n",
    "plot_trajectories(traj=traj_viswalk).set_aspect(\"equal\")\n",
    "plt.show()"
   ]
  },
  {
   "cell_type": "markdown",
   "metadata": {},
   "source": [
    "### Loading from Vadere trajectory files\n",
    "\n",
    "It is also possible to load trajectory files from [Vadere](https://www.vadere.org/) directly into *PedPy*. \n",
    "The expected format is a CSV file with space character as delimiter, and it should contain at least the following columns: `pedestrianId`, `simTime`, `startX`, `startY`.\n",
    "Comment lines may start with a `#` and will be ignored.\n",
    "\n",
    "\n",
    "To make the data usable for *PedPy* use:"
   ]
  },
  {
   "cell_type": "code",
   "execution_count": 1,
   "metadata": {},
   "outputs": [],
   "source": [
    "from pedpy import (\n",
    "    TrajectoryData,\n",
    "    load_trajectory_from_vadere,\n",
    ")\n",
    "import pathlib\n",
    "\n",
    "vadere_file = pathlib.Path(\"demo-data/vadere/bottleneck/postvis.traj\")\n",
    "\n",
    "traj_vadere = load_trajectory_from_vadere(trajectory_file=vadere_file)"
   ]
  },
  {
   "cell_type": "code",
   "execution_count": 2,
   "metadata": {},
   "outputs": [
    {
     "data": {
      "image/png": "[encoded data removed]",
      "text/plain": [
       "<Figure size 640x480 with 1 Axes>"
      ]
     },
     "metadata": {},
     "output_type": "display_data"
    }
   ],
   "source": [
    "import matplotlib.pyplot as plt\n",
    "from pedpy import plot_trajectories\n",
    "\n",
    "plot_trajectories(traj=traj_vadere).set_aspect(\"equal\")\n",
    "plt.show()"
   ]
  },
  {
   "cell_type": "markdown",
   "metadata": {
    "collapsed": false,
    "jupyter": {
     "outputs_hidden": false
    }
   },
   "source": [
    "### Plot setup\n",
    "\n",
    "For a better overview of our created measurement setup, see the plot below:"
   ]
  },
  {
   "cell_type": "code",
   "execution_count": null,
   "metadata": {
    "collapsed": false,
    "jupyter": {
     "outputs_hidden": false
    },
    "tags": [
     "hide-input"
    ]
   },
   "outputs": [],
   "source": [
    "from pedpy import plot_measurement_setup\n",
    "import matplotlib.pyplot as plt\n",
    "\n",
    "plot_measurement_setup(\n",
    "    traj=traj,\n",
    "    walkable_area=walkable_area,\n",
    "    measurement_areas=[measurement_area],\n",
    "    measurement_lines=[\n",
    "        measurement_line,\n",
    "    ],\n",
    "    traj_alpha=0.7,\n",
    "    traj_width=0.4,\n",
    "    ml_width=2,\n",
    "    ma_alpha=0.2,\n",
    "    ma_line_width=2,\n",
    ").set_aspect(\"equal\")\n",
    "plt.show()"
   ]
  },
  {
   "cell_type": "markdown",
   "metadata": {
    "collapsed": false,
    "jupyter": {
     "outputs_hidden": false
    }
   },
   "source": [
    "### Validate that trajectory is completely inside the walkable area.\n",
    "\n",
    "An important step before starting the analysis is to verify that all trajectories lie within the constructed {class}`walkable area <geometry.WalkableArea>`.\n",
    "Otherwise, you might get errors.\n",
    "*PedPy* provides a function to test your trajectories, and offers also a function to get all invalid trajectories:"
   ]
  },
  {
   "cell_type": "code",
   "execution_count": null,
   "metadata": {
    "collapsed": false,
    "jupyter": {
     "outputs_hidden": false
    }
   },
   "outputs": [],
   "source": [
    "from pedpy import is_trajectory_valid, get_invalid_trajectory\n",
    "\n",
    "print(\n",
    "    f\"Trajectory is valid: {is_trajectory_valid(traj_data=traj, walkable_area=walkable_area)}\"\n",
    ")\n",
    "get_invalid_trajectory(traj_data=traj, walkable_area=walkable_area)"
   ]
  },
  {
   "cell_type": "markdown",
   "metadata": {
    "collapsed": false,
    "jupyter": {
     "outputs_hidden": false
    }
   },
   "source": [
    "**For demonstration purposes, wrongly place the obstacle s.th. some pedestrian walk through it!**\n",
    "\n",
    "We now create a faulty geometry, s.th. you can see how the result would like.\n",
    "Therefore, the right obstacle will be moved a bit towards the center of the bottlneck:"
   ]
  },
  {
   "cell_type": "code",
   "execution_count": null,
   "metadata": {
    "collapsed": false,
    "jupyter": {
     "outputs_hidden": false
    },
    "tags": [
     "hide-cell"
    ]
   },
   "outputs": [],
   "source": [
    "from pedpy import WalkableArea\n",
    "\n",
    "walkable_area_faulty = WalkableArea(\n",
    "    # complete area\n",
    "    [\n",
    "        (3.5, -2),\n",
    "        (3.5, 8),\n",
    "        (-3.5, 8),\n",
    "        (-3.5, -2),\n",
    "    ],\n",
    "    obstacles=[\n",
    "        # left barrier\n",
    "        [\n",
    "            (-0.7, -1.1),\n",
    "            (-0.25, -1.1),\n",
    "            (-0.25, -0.15),\n",
    "            (-0.4, 0.0),\n",
    "            (-2.8, 0.0),\n",
    "            (-2.8, 6.7),\n",
    "            (-3.05, 6.7),\n",
    "            (-3.05, -0.3),\n",
    "            (-0.7, -0.3),\n",
    "            (-0.7, -1.0),\n",
    "        ],\n",
    "        # right barrier is too close to the middle\n",
    "        [\n",
    "            (0.15, -1.1),\n",
    "            (0.6, -1.1),\n",
    "            (0.6, -0.3),\n",
    "            (3.05, -0.3),\n",
    "            (3.05, 6.7),\n",
    "            (2.8, 6.7),\n",
    "            (2.8, 0.0),\n",
    "            (0.3, 0.0),\n",
    "            (0.15, -0.15),\n",
    "            (0.15, -1.1),\n",
    "        ],\n",
    "    ],\n",
    ")"
   ]
  },
  {
   "cell_type": "code",
   "execution_count": null,
   "metadata": {
    "tags": [
     "hide-input"
    ]
   },
   "outputs": [],
   "source": [
    "from pedpy import plot_measurement_setup\n",
    "import matplotlib.pyplot as plt\n",
    "\n",
    "ax = plot_measurement_setup(\n",
    "    traj=traj,\n",
    "    walkable_area=walkable_area_faulty,\n",
    "    traj_alpha=0.5,\n",
    "    traj_width=1,\n",
    "    hole_color=\"lightgrey\",\n",
    ")\n",
    "ax.set_xlim([-1, 1])\n",
    "ax.set_ylim([-1, 1])\n",
    "ax.set_xticks([-1, -0.5, 0, 0.5, 1])\n",
    "ax.set_yticks([-1, -0.5, 0, 0.5, 1])\n",
    "plt.show()"
   ]
  },
  {
   "cell_type": "markdown",
   "metadata": {},
   "source": [
    "If you get any invalid trajectories, you should check whether you constructed your {class}`walkable area <geometry.WalkableArea>` correctly.\n",
    "In some cases you will get such errors when you have head trajectories, and the pedestrian lean over the obstacles.\n",
    "Then you need to prepare your data before you can start your analysis."
   ]
  },
  {
   "cell_type": "code",
   "execution_count": null,
   "metadata": {
    "collapsed": false,
    "jupyter": {
     "outputs_hidden": false
    }
   },
   "outputs": [],
   "source": [
    "from pedpy import is_trajectory_valid, get_invalid_trajectory\n",
    "\n",
    "print(\n",
    "    f\"Trajectory is valid: {is_trajectory_valid(traj_data=traj, walkable_area=walkable_area_faulty)}\"\n",
    ")\n",
    "get_invalid_trajectory(traj_data=traj, walkable_area=walkable_area_faulty)"
   ]
  },
  {
   "cell_type": "markdown",
   "metadata": {},
   "source": [
    "## Analysis\n",
    "\n",
    "Now that we set up the analysis environment, we can start with the real analysis.\n",
    "*PedPy* provides different methods to obtain multiple metric from the {class}`trajectory data<trajectory_data.TrajectoryData>`:\n",
    "\n",
    "- Density\n",
    "- Speed\n",
    "- Flow\n",
    "- Neighborhood\n",
    "- Distance/Time to entrance\n",
    "- Profiles"
   ]
  },
  {
   "cell_type": "markdown",
   "metadata": {
    "collapsed": false,
    "jupyter": {
     "outputs_hidden": false
    }
   },
   "source": [
    "### Density\n",
    "\n",
    "Density is a fundamental metric in pedestrian dynamics.\n",
    "As it indicated how much space is accessible to each pedestrian within a specific area.\n",
    "High density can lead to reduced walking speeds, increased congestion, and even potential safety hazards."
   ]
  },
  {
   "cell_type": "markdown",
   "metadata": {
    "collapsed": false,
    "jupyter": {
     "outputs_hidden": false
    }
   },
   "source": [
    "#### Classic density\n",
    "\n",
    "The classic approach to calculate the density $\\rho_{classic}(t)$ at a time $t$, is to count the number of pedestrians ($N(t)$) inside a specific space ($M$) and divide it by the area of that space ($A(M)$).\n",
    "\n",
    "$$\n",
    "\\rho_{classic}(t) = {N(t) \\over A(M)}\n",
    "$$\n",
    "\n",
    "In *PedPy* this can be computed with:\n"
   ]
  },
  {
   "cell_type": "code",
   "execution_count": null,
   "metadata": {
    "collapsed": false,
    "jupyter": {
     "outputs_hidden": false
    }
   },
   "outputs": [],
   "source": [
    "from pedpy import compute_classic_density\n",
    "\n",
    "classic_density = compute_classic_density(\n",
    "    traj_data=traj, measurement_area=measurement_area\n",
    ")"
   ]
  },
  {
   "cell_type": "markdown",
   "metadata": {},
   "source": [
    "The resulting time-series can be seen below:"
   ]
  },
  {
   "cell_type": "code",
   "execution_count": null,
   "metadata": {
    "collapsed": false,
    "jupyter": {
     "outputs_hidden": false
    },
    "tags": [
     "hide-input"
    ]
   },
   "outputs": [],
   "source": [
    "from pedpy import plot_density\n",
    "import matplotlib.pyplot as plt\n",
    "\n",
    "plot_density(density=classic_density, title=\"Classic density\")\n",
    "plt.show()"
   ]
  },
  {
   "cell_type": "markdown",
   "metadata": {
    "collapsed": false,
    "jupyter": {
     "outputs_hidden": false
    }
   },
   "source": [
    "(voronoi_density)=\n",
    " #### Voronoi density\n",
    "\n",
    "Another approach for calculating the density is to compute the [Voronoi tesselation](https://en.wikipedia.org/wiki/Voronoi_diagram) of the pedestrians positions at a given time $t$, the resulting Voronoi polygons ($V$) directly relate to the individual's density.\n",
    "For a pedestrian $i$ the individual density is defined as:\n",
    "\n",
    "$$\n",
    "\\rho_i(t) = {1 \\over A(V_i(t)}\n",
    "$$\n",
    "\n",
    "\n",
    "##### Compute individual Voronoi Polygons\n",
    "\n",
    "The first step for computing the Voronoi density, is to compute the individual's Voronoi polygon.\n",
    "As these polygons may become infinite for pedestrians at the edge of the crowd, these polygons are restricted by the {class}`walkable area <geometry.WalkableArea>`.\n",
    "This cutting at the boundaries can lead to split Voronoi polygons. For each of the split polygons it is checked, in which the pedestrian is located. \n",
    "This polygon then is assigned.\n",
    "\n",
    ":::{important}\n",
    "As these Voronoi polygons work on the Euclidean distance, some unexpected artifacts may occur on non-convex {class}`walkable areas <geometry.WalkableArea>`. Please keep that in mind! How that may look like, you can see in the plots later in this guide.\n",
    ":::\n",
    "\n",
    "###### Without cut-off\n",
    "\n",
    "The computation of the individual polygons can be done from the {class}`trajectory data<trajectory_data.TrajectoryData>` and {class}`walkable area <geometry.WalkableArea>` with:"
   ]
  },
  {
   "cell_type": "code",
   "execution_count": null,
   "metadata": {
    "collapsed": false,
    "jupyter": {
     "outputs_hidden": false
    }
   },
   "outputs": [],
   "source": [
    "from pedpy import compute_individual_voronoi_polygons\n",
    "\n",
    "individual = compute_individual_voronoi_polygons(\n",
    "    traj_data=traj, walkable_area=walkable_area\n",
    ")"
   ]
  },
  {
   "cell_type": "markdown",
   "metadata": {
    "collapsed": false,
    "jupyter": {
     "outputs_hidden": false
    }
   },
   "source": [
    "###### With cut-off\n",
    "\n",
    "When having a large {class}`walkable area <geometry.WalkableArea>` or widely spread pedestrians the Voronoi polygons may become quite large.\n",
    "In *PedPy* it is possible to restrict the size of the computed Polygons.\n",
    "This can be done by defining a {class}`cut off <method_utils.CutOff>`, which is essentially an approximated circle which gives the maximum extension of a single Voronoi polygon.\n",
    "For the creation of the {class}`cut off <method_utils.CutOff>`, we need to define how accurate we want to approximate the circle, the differences can be seen below:\n",
    "\n",
    "```{eval-rst}\n",
    ".. figure:: images/voronoi_cutoff_differences.svg\n",
    "    :align: center\n",
    "```\n",
    "\n",
    "Now, with that {class}`cut off <method_utils.CutOff>` the computation of the individual polygons becomes:"
   ]
  },
  {
   "cell_type": "code",
   "execution_count": null,
   "metadata": {
    "collapsed": false,
    "jupyter": {
     "outputs_hidden": false
    }
   },
   "outputs": [],
   "source": [
    "from pedpy import compute_individual_voronoi_polygons, Cutoff\n",
    "\n",
    "individual_cutoff = compute_individual_voronoi_polygons(\n",
    "    traj_data=traj,\n",
    "    walkable_area=walkable_area,\n",
    "    cut_off=Cutoff(radius=1.0, quad_segments=3),\n",
    ")"
   ]
  },
  {
   "cell_type": "markdown",
   "metadata": {
    "collapsed": false,
    "jupyter": {
     "outputs_hidden": false
    }
   },
   "source": [
    "###### Comparison\n",
    "\n",
    "To get a better impression what the differences between the Voronoi polygons with and without the {class}`cut off <method_utils.CutOff>` are, take a look at the plot below:"
   ]
  },
  {
   "cell_type": "code",
   "execution_count": null,
   "metadata": {
    "collapsed": false,
    "jupyter": {
     "outputs_hidden": false
    },
    "tags": [
     "hide-input"
    ]
   },
   "outputs": [],
   "source": [
    "from pedpy.column_identifier import ID_COL, FRAME_COL, DENSITY_COL\n",
    "from pedpy import plot_voronoi_cells\n",
    "import matplotlib as mpl\n",
    "import matplotlib.pyplot as plt\n",
    "\n",
    "frame = 600\n",
    "\n",
    "fig = plt.figure(f\"frame = {frame}\")\n",
    "fig.suptitle(f\"frame = {frame}\")\n",
    "\n",
    "ax1 = fig.add_subplot(121, aspect=\"equal\")\n",
    "ax1.set_title(\"w/o cutoff\")\n",
    "plot_voronoi_cells(\n",
    "    voronoi_data=individual,\n",
    "    traj_data=traj,\n",
    "    frame=frame,\n",
    "    walkable_area=walkable_area,\n",
    "    color_by_column=DENSITY_COL,\n",
    "    axes=ax1,\n",
    "    show_colorbar=False,\n",
    "    vmin=0,\n",
    "    vmax=10,\n",
    ")\n",
    "\n",
    "ax2 = fig.add_subplot(122, aspect=\"equal\")\n",
    "ax2.set_title(\"w cutoff\")\n",
    "\n",
    "plot_voronoi_cells(\n",
    "    voronoi_data=individual_cutoff,\n",
    "    traj_data=traj,\n",
    "    frame=frame,\n",
    "    walkable_area=walkable_area,\n",
    "    color_by_column=DENSITY_COL,\n",
    "    axes=ax2,\n",
    "    show_colorbar=False,\n",
    "    vmin=0,\n",
    "    vmax=10,\n",
    ")\n",
    "cbar_ax = fig.add_axes([0.1, -0.05, 0.88, 0.05])\n",
    "\n",
    "norm = mpl.colors.Normalize(vmin=0, vmax=10)\n",
    "sm = plt.cm.ScalarMappable(cmap=plt.get_cmap(\"YlGn\"), norm=norm)\n",
    "sm.set_array([])\n",
    "plt.colorbar(\n",
    "    sm,\n",
    "    cax=cbar_ax,\n",
    "    shrink=0.1,\n",
    "    label=\"$\\\\rho$ \\ 1/$m^2$\",\n",
    "    aspect=2,\n",
    "    orientation=\"horizontal\",\n",
    ")\n",
    "\n",
    "fig.tight_layout()\n",
    "plt.show()"
   ]
  },
  {
   "cell_type": "markdown",
   "metadata": {
    "collapsed": false,
    "jupyter": {
     "outputs_hidden": false
    }
   },
   "source": [
    "##### Compute actual Voronoi density\n",
    "\n",
    "From these individual data we can now compute the Voronoi density $\\rho_{voronoi}(t)$ in the known {class}`measurement area <geometry.MeasurementArea>` ($M$):\n",
    "\n",
    "$$\n",
    "    \\rho_{voronoi}(t) = { \\int\\int \\rho_{xy}(t) dxdy \\over A(M)},\n",
    "$$\n",
    "\n",
    "where $\\rho_{xy}(t) = 1 / A(V_i(t))$ is the individual density of each pedestrian, whose $V_i(t) \\cap M$ and $A(M)$ the area of the {class}`measurement area <geometry.MeasurementArea>`.\n",
    "\n",
    "###### Without cut-off\n",
    "\n",
    "First, we compute the Voronoi density in the {class}`measurement area <geometry.MeasurementArea>` without a {class}`cut off <method_utils.CutOff>`:"
   ]
  },
  {
   "cell_type": "code",
   "execution_count": null,
   "metadata": {
    "collapsed": false,
    "jupyter": {
     "outputs_hidden": false
    }
   },
   "outputs": [],
   "source": [
    "from pedpy import compute_voronoi_density\n",
    "\n",
    "density_voronoi, intersecting = compute_voronoi_density(\n",
    "    individual_voronoi_data=individual, measurement_area=measurement_area\n",
    ")"
   ]
  },
  {
   "cell_type": "code",
   "execution_count": null,
   "metadata": {
    "collapsed": false,
    "jupyter": {
     "outputs_hidden": false
    },
    "tags": [
     "hide-input"
    ]
   },
   "outputs": [],
   "source": [
    "from pedpy import plot_density, PEDPY_ORANGE\n",
    "import matplotlib.pyplot as plt\n",
    "\n",
    "plot_density(\n",
    "    density=density_voronoi, title=\"Voronoi density\", color=PEDPY_ORANGE\n",
    ")\n",
    "plt.show()"
   ]
  },
  {
   "cell_type": "markdown",
   "metadata": {
    "collapsed": false,
    "jupyter": {
     "outputs_hidden": false
    }
   },
   "source": [
    "###### With cut-off\n",
    "\n",
    "Second, we compute it now from the individual {class}`cut off <method_utils.CutOff>` Voronoi polygons:\n"
   ]
  },
  {
   "cell_type": "code",
   "execution_count": null,
   "metadata": {
    "collapsed": false,
    "jupyter": {
     "outputs_hidden": false
    }
   },
   "outputs": [],
   "source": [
    "from pedpy import compute_voronoi_density\n",
    "\n",
    "density_voronoi_cutoff, intersecting_cutoff = compute_voronoi_density(\n",
    "    individual_voronoi_data=individual_cutoff, measurement_area=measurement_area\n",
    ")"
   ]
  },
  {
   "cell_type": "code",
   "execution_count": null,
   "metadata": {
    "collapsed": false,
    "jupyter": {
     "outputs_hidden": false
    },
    "tags": [
     "hide-input"
    ]
   },
   "outputs": [],
   "source": [
    "from pedpy import plot_density, PEDPY_GREY\n",
    "import matplotlib.pyplot as plt\n",
    "\n",
    "plot_density(\n",
    "    density=density_voronoi_cutoff,\n",
    "    title=\"Voronoi density with cut-off\",\n",
    "    color=PEDPY_GREY,\n",
    ")\n",
    "plt.show()"
   ]
  },
  {
   "cell_type": "markdown",
   "metadata": {
    "collapsed": false,
    "jupyter": {
     "outputs_hidden": false
    }
   },
   "source": [
    "#### Comparison\n",
    "\n",
    "Now we have obtained the mean density inside the {class}`measurement area <geometry.MeasurementArea>` with different methods.\n",
    "To compare the results take a look at the following plot:"
   ]
  },
  {
   "cell_type": "code",
   "execution_count": null,
   "metadata": {
    "collapsed": false,
    "jupyter": {
     "outputs_hidden": false
    },
    "tags": [
     "hide-input"
    ]
   },
   "outputs": [],
   "source": [
    "from pedpy import PEDPY_BLUE, PEDPY_ORANGE, PEDPY_GREY\n",
    "import matplotlib.pyplot as plt\n",
    "\n",
    "fig = plt.figure()\n",
    "plt.title(\"Comparison of different density methods\")\n",
    "plt.plot(\n",
    "    classic_density.reset_index().frame,\n",
    "    classic_density.values,\n",
    "    label=\"classic\",\n",
    "    color=PEDPY_BLUE,\n",
    ")\n",
    "plt.plot(\n",
    "    density_voronoi.reset_index().frame,\n",
    "    density_voronoi,\n",
    "    label=\"voronoi\",\n",
    "    color=PEDPY_ORANGE,\n",
    ")\n",
    "plt.plot(\n",
    "    density_voronoi_cutoff.reset_index().frame,\n",
    "    density_voronoi_cutoff,\n",
    "    label=\"voronoi with cutoff\",\n",
    "    color=PEDPY_GREY,\n",
    ")\n",
    "plt.xlabel(\"frame\")\n",
    "plt.ylabel(\"$\\\\rho$ / 1/$m^2$\")\n",
    "plt.grid()\n",
    "plt.legend()\n",
    "plt.show()"
   ]
  },
  {
   "cell_type": "markdown",
   "metadata": {
    "collapsed": false,
    "jupyter": {
     "outputs_hidden": false
    }
   },
   "source": [
    "(passing_density)=\n",
    " #### Passing density (individual)\n",
    "\n",
    "Another option to compute the individual density, is the passing density. \n",
    "For the computation it needs a {class}`measurement line <geometry.MeasurementLine>` and the distance to a second \"virtual\" {class}`measurement line <geometry.MeasurementLine>` which form a \"virtual\" {class}`measurement area <geometry.MeasurementArea>` ($M$).\n",
    "\n",
    "```{eval-rst}\n",
    ".. image:: /images/passing_area_from_lines.svg\n",
    "    :width: 80 %\n",
    "    :align: center\n",
    "```\n",
    "\n",
    "For each pedestrians now the frames when they enter and leave the virtual {class}`measurement area <geometry.MeasurementArea>` is computed. \n",
    "In this frame interval they have to be inside the {class}`measurement area <geometry.MeasurementArea>` continuously. \n",
    "They also need to enter and leave the {class}`measurement area <geometry.MeasurementArea>` via different {class}`measurement lines <geometry.MeasurementLine>`.\n",
    "If leaving the area between the two lines, crossing the same line twice they will be ignored. \n",
    "For a better understanding, see the image below, where red parts of the trajectories are the detected ones inside the area. \n",
    "These frame intervals will be returned.\n",
    "\n",
    "```{eval-rst}\n",
    ".. image:: /images/frames_in_area.svg\n",
    "    :width: 80 %\n",
    "    :align: center\n",
    "```\n",
    "\n",
    "In this our example, we want to measure from the entrance of the bottleneck (top line) 1m towards the exit of the bottleneck (bottom line).\n",
    "The set-up is shown below:"
   ]
  },
  {
   "cell_type": "code",
   "execution_count": null,
   "metadata": {
    "tags": [
     "remove-input"
    ]
   },
   "outputs": [],
   "source": [
    "from pedpy import compute_frame_range_in_area\n",
    "\n",
    "frames_in_area, used_area = compute_frame_range_in_area(\n",
    "    traj_data=traj, measurement_line=measurement_line, width=1.0\n",
    ")"
   ]
  },
  {
   "cell_type": "code",
   "execution_count": null,
   "metadata": {
    "collapsed": false,
    "jupyter": {
     "outputs_hidden": false
    },
    "tags": [
     "hide-input"
    ]
   },
   "outputs": [],
   "source": [
    "from pedpy import plot_measurement_setup\n",
    "import matplotlib.pyplot as plt\n",
    "\n",
    "plot_measurement_setup(\n",
    "    measurement_areas=[used_area],\n",
    "    measurement_lines=[\n",
    "        measurement_line,\n",
    "        MeasurementLine(shapely.offset_curve(measurement_line.line, 1.0)),\n",
    "    ],\n",
    "    ml_width=2,\n",
    "    ma_line_width=0,\n",
    "    ma_alpha=0.2,\n",
    "    walkable_area=walkable_area,\n",
    ").set_aspect(\"equal\")\n",
    "plt.show()"
   ]
  },
  {
   "cell_type": "markdown",
   "metadata": {
    "collapsed": false,
    "jupyter": {
     "outputs_hidden": false
    }
   },
   "source": [
    "The passing density for each pedestrian $\\rho_{passing}(i)$ is the average number of pedestrian who are in the same {class}`measurement area <geometry.MeasurementArea>` $M$ in the same time interval ($[t_{in}(i), t_{out}(i)]$) as pedestrian $i$, divided by the area of that {class}`measurement area <geometry.MeasurementArea>` $A(M)$.\n",
    "\n",
    "Then the computation becomes:\n",
    "\n",
    "$$\n",
    "    \\rho_{passing}(i) = {1 \\over {t_{out}(i)-t_{in}(i)}}\n",
    "    \\int^{t_{out}(i)}_{t_{in}(i)} {{N(t)} \\over A(M)} dt\n",
    "$$\n",
    "\n",
    "where $t_{in}(i) = f_{in}(i) / fps$ is the time the pedestrian crossed the first line and $t_{out}(i) = f_{out}(i) / fps$ when they crossed the second line, where $f_{in}$ and $f_{out}$ are the frames where the pedestrian crossed the first line, and the second line respectively. \n",
    "And $fps$ is the frame rate of the {class}`trajectory data<trajectory_data.TrajectoryData>`.\n",
    "\n",
    "Here, we want to compute the passing density inside the bottleneck, this can be done with:\n"
   ]
  },
  {
   "cell_type": "code",
   "execution_count": null,
   "metadata": {
    "collapsed": false,
    "jupyter": {
     "outputs_hidden": false
    }
   },
   "outputs": [],
   "source": [
    "from pedpy import compute_passing_density\n",
    "from pedpy import compute_frame_range_in_area\n",
    "\n",
    "frames_in_area, used_area = compute_frame_range_in_area(\n",
    "    traj_data=traj, measurement_line=measurement_line, width=1.0\n",
    ")\n",
    "passing_density = compute_passing_density(\n",
    "    density_per_frame=classic_density, frames=frames_in_area\n",
    ")"
   ]
  },
  {
   "cell_type": "markdown",
   "metadata": {},
   "source": [
    "This gives for each pedestrian one value for the density. \n",
    "The following plot shows how the individual density inside is distributed the bottleneck:"
   ]
  },
  {
   "cell_type": "code",
   "execution_count": null,
   "metadata": {
    "collapsed": false,
    "jupyter": {
     "outputs_hidden": false
    },
    "tags": [
     "hide-input"
    ]
   },
   "outputs": [],
   "source": [
    "from pedpy import plot_density_distribution\n",
    "import matplotlib.pyplot as plt\n",
    "\n",
    "plot_density_distribution(\n",
    "    density=passing_density, title=\"Individual density inside bottleneck\"\n",
    ")\n",
    "plt.show()"
   ]
  },
  {
   "cell_type": "markdown",
   "metadata": {
    "collapsed": false,
    "jupyter": {
     "outputs_hidden": false
    }
   },
   "source": [
    "### Speed\n",
    "\n",
    "A further important measure in pedestrian dynamics is the speed of the pedestrians.\n",
    "Low speeds can indicate congestions or other obstructions in the flow of the crowd."
   ]
  },
  {
   "cell_type": "markdown",
   "metadata": {
    "collapsed": false,
    "jupyter": {
     "outputs_hidden": false
    }
   },
   "source": [
    "#### Individual speed\n",
    "\n",
    "For computing the individuals speed at a specific frame $v_i(t)$, a specific frame step ($n$) is needed.\n",
    "Together with the frame rate of the {class}`trajectory data<trajectory_data.TrajectoryData>` $fps$ the time frame $\\Delta t$ for computing the speed becomes:\n",
    "\n",
    "$$\n",
    "    \\Delta t = 2 n / fps\n",
    "$$\n",
    "\n",
    "This time step describes how many frames before and after the current position $X_{current}$ are used to compute the movement.\n",
    "These positions are called $X_{future}$, $X_{past}$, respectively.\n",
    "\n",
    "```{eval-rst}\n",
    ".. image:: /images/speed_both.svg\n",
    "    :width: 80 %\n",
    "    :align: center\n",
    "```\n",
    "\n",
    "First computing the displacement between these positions $\\bar{X}$.\n",
    "This then can be used to compute the speed with:\n",
    "\n",
    "$$\\begin{align}\n",
    "    \\bar{X} &= X_{future} - X_{past} \\\\\n",
    "    v_i(t) &= \\frac{\\bar{X}}{\\Delta t}\n",
    "\\end{align}$$\n",
    "\n",
    "When getting closer to the start, or end of the {class}`trajectory data<trajectory_data.TrajectoryData>`, it is not possible to use the full range of the frame interval for computing the speed.\n",
    "For these cases *PedPy* offers three different methods to compute the speed:\n",
    "\n",
    "1. exclude these parts\n",
    "2. adaptively shrink the window in which the speed is computed\n",
    "3. switch to one-sided window\n",
    "\n",
    "##### Exclude border\n",
    "\n",
    "When not enough frames available to compute the speed at the borders, for these parts no speed can be computed and they are ignored.\n"
   ]
  },
  {
   "cell_type": "code",
   "execution_count": null,
   "metadata": {
    "collapsed": false,
    "jupyter": {
     "outputs_hidden": false
    }
   },
   "outputs": [],
   "source": [
    "from pedpy import compute_individual_speed, SpeedCalculation\n",
    "\n",
    "frame_step = 25\n",
    "\n",
    "individual_speed_exclude = compute_individual_speed(\n",
    "    traj_data=traj,\n",
    "    frame_step=frame_step,\n",
    "    compute_velocity=True,\n",
    "    speed_calculation=SpeedCalculation.BORDER_EXCLUDE,\n",
    ")"
   ]
  },
  {
   "cell_type": "code",
   "execution_count": null,
   "metadata": {
    "collapsed": false,
    "jupyter": {
     "outputs_hidden": false
    },
    "tags": [
     "hide-input"
    ]
   },
   "outputs": [],
   "source": [
    "from pedpy import PEDPY_GREEN\n",
    "import matplotlib.pyplot as plt\n",
    "\n",
    "ped_id = 25\n",
    "\n",
    "plt.figure()\n",
    "plt.title(f\"Speed time-series of a pedestrian {ped_id} (border excluded)\")\n",
    "single_individual_speed = individual_speed_exclude[\n",
    "    individual_speed_exclude.id == ped_id\n",
    "]\n",
    "plt.plot(\n",
    "    single_individual_speed.frame,\n",
    "    single_individual_speed.speed,\n",
    "    color=PEDPY_GREEN,\n",
    ")\n",
    "\n",
    "plt.xlabel(\"frame\")\n",
    "plt.ylabel(\"v / m/s\")\n",
    "plt.show()"
   ]
  },
  {
   "cell_type": "markdown",
   "metadata": {
    "collapsed": false,
    "jupyter": {
     "outputs_hidden": false
    }
   },
   "source": [
    "##### Adaptive border window\n",
    "\n",
    "In the adaptive approach, it is checked how many frames $n$ are available to from $X_{current}$ to the end of the trajectory.\n",
    "This number is then used on both sides to create a smaller symmetric window, which yields $X_{past}$ and $X_{future}$.\n",
    "Now with the same principles as before the individual speed $v_i(t)$ can be computed.\n",
    "\n",
    "```{eval-rst}\n",
    ".. image:: images/speed_border_adaptive_future.svg\n",
    "    :width: 46 %\n",
    ".. image:: images/speed_border_adaptive_past.svg\n",
    "    :width: 46 %\n",
    "```\n",
    "\n",
    ":::{important}\n",
    "As the time interval gets smaller to the ends of the individual trajectories, the oscillations in the speed increase here.\n",
    ":::\n"
   ]
  },
  {
   "cell_type": "code",
   "execution_count": null,
   "metadata": {
    "collapsed": false,
    "jupyter": {
     "outputs_hidden": false
    }
   },
   "outputs": [],
   "source": [
    "from pedpy import compute_individual_speed, SpeedCalculation\n",
    "\n",
    "individual_speed_adaptive = compute_individual_speed(\n",
    "    traj_data=traj,\n",
    "    frame_step=frame_step,\n",
    "    compute_velocity=True,\n",
    "    speed_calculation=SpeedCalculation.BORDER_ADAPTIVE,\n",
    ")"
   ]
  },
  {
   "cell_type": "code",
   "execution_count": null,
   "metadata": {
    "collapsed": false,
    "jupyter": {
     "outputs_hidden": false
    },
    "tags": [
     "hide-input"
    ]
   },
   "outputs": [],
   "source": [
    "from pedpy import PEDPY_RED\n",
    "import matplotlib.pyplot as plt\n",
    "\n",
    "plt.figure()\n",
    "plt.title(f\"Speed time-series of an pedestrian {ped_id} (adaptive)\")\n",
    "single_individual_speed = individual_speed_adaptive[\n",
    "    individual_speed_adaptive.id == ped_id\n",
    "]\n",
    "plt.plot(\n",
    "    single_individual_speed.frame,\n",
    "    single_individual_speed.speed,\n",
    "    color=PEDPY_RED,\n",
    ")\n",
    "\n",
    "plt.xlabel(\"frame\")\n",
    "plt.ylabel(\"v / m/s\")\n",
    "plt.show()"
   ]
  },
  {
   "cell_type": "markdown",
   "metadata": {
    "collapsed": false,
    "jupyter": {
     "outputs_hidden": false
    }
   },
   "source": [
    "##### Single sided border window\n",
    "\n",
    "In these cases, one of the end points to compute the movement becomes the current position $X_{current}$.\n",
    "When getting too close to the start of the trajectory, the movement is computed from $X_{current}$ to $X_{future}$.\n",
    "In the other case the movement is from $X_{past}$ to $X_{current}$.\n",
    "\n",
    "$$\n",
    "    v_i(t) = {|{X_{future} - X_{current}|}\\over{ \\frac{1}{2} \\Delta t}} \\text{, or } v_i(t) = {|{X_{current} - X_{past}|}\\over{ \\frac{1}{2} \\Delta t}}\n",
    "$$\n",
    "\n",
    "```{eval-rst}\n",
    ".. image:: images/speed_border_single_sided_future.svg\n",
    "    :width: 46 %\n",
    ".. image:: images/speed_border_single_sided_past.svg\n",
    "    :width: 46 %\n",
    "```\n",
    "\n",
    ":::{important}\n",
    "As at the edges of the trajectories the time interval gets halved, there may occur some jumps computed speeds at this point.\n",
    ":::"
   ]
  },
  {
   "cell_type": "code",
   "execution_count": null,
   "metadata": {
    "collapsed": false,
    "jupyter": {
     "outputs_hidden": false
    }
   },
   "outputs": [],
   "source": [
    "from pedpy import compute_individual_speed, SpeedCalculation\n",
    "\n",
    "individual_speed_single_sided = compute_individual_speed(\n",
    "    traj_data=traj,\n",
    "    frame_step=frame_step,\n",
    "    compute_velocity=True,\n",
    "    speed_calculation=SpeedCalculation.BORDER_SINGLE_SIDED,\n",
    ")"
   ]
  },
  {
   "cell_type": "code",
   "execution_count": null,
   "metadata": {
    "collapsed": false,
    "jupyter": {
     "outputs_hidden": false
    },
    "tags": [
     "hide-input"
    ]
   },
   "outputs": [],
   "source": [
    "from pedpy import PEDPY_GREY\n",
    "import matplotlib.pyplot as plt\n",
    "\n",
    "plt.figure()\n",
    "plt.title(f\"Speed time-series of an pedestrian {ped_id} (single sided)\")\n",
    "single_individual_speed = individual_speed_single_sided[\n",
    "    individual_speed_single_sided.id == ped_id\n",
    "]\n",
    "plt.plot(\n",
    "    single_individual_speed.frame,\n",
    "    single_individual_speed.speed,\n",
    "    color=PEDPY_GREY,\n",
    ")\n",
    "\n",
    "plt.xlabel(\"frame\")\n",
    "plt.ylabel(\"v / m/s\")\n",
    "plt.show()"
   ]
  },
  {
   "cell_type": "markdown",
   "metadata": {
    "collapsed": false,
    "jupyter": {
     "outputs_hidden": false
    }
   },
   "source": [
    "##### Comparison\n",
    "\n",
    "To demonstrate the differences in the computed speeds, take a look at the following plot:\n"
   ]
  },
  {
   "cell_type": "code",
   "execution_count": null,
   "metadata": {
    "collapsed": false,
    "jupyter": {
     "outputs_hidden": false
    },
    "tags": [
     "hide-input"
    ]
   },
   "outputs": [],
   "source": [
    "from pedpy import PEDPY_GREY, PEDPY_RED, PEDPY_GREEN\n",
    "import matplotlib.pyplot as plt\n",
    "\n",
    "fig, ax = plt.subplots(\n",
    "    1, 3, gridspec_kw={\"width_ratios\": [2, 1, 1]}, sharey=True, figsize=(12, 5)\n",
    ")\n",
    "\n",
    "fig.suptitle(\"Comparison of the different speed calculations at the borders\")\n",
    "speed_exclude = individual_speed_exclude[individual_speed_exclude.id == ped_id]\n",
    "speed_adaptive = individual_speed_adaptive[\n",
    "    individual_speed_adaptive.id == ped_id\n",
    "]\n",
    "speed_single_sided = individual_speed_single_sided[\n",
    "    individual_speed_single_sided.id == ped_id\n",
    "]\n",
    "\n",
    "ax[0].plot(\n",
    "    speed_single_sided.frame,\n",
    "    speed_single_sided.speed,\n",
    "    color=PEDPY_GREY,\n",
    "    linewidth=3,\n",
    "    label=\"single sided\",\n",
    ")\n",
    "ax[0].plot(\n",
    "    speed_adaptive.frame,\n",
    "    speed_adaptive.speed,\n",
    "    color=PEDPY_RED,\n",
    "    linewidth=3,\n",
    "    label=\"adaptive\",\n",
    ")\n",
    "ax[0].plot(\n",
    "    speed_exclude.frame,\n",
    "    speed_exclude.speed,\n",
    "    color=PEDPY_GREEN,\n",
    "    linewidth=3,\n",
    "    label=\"excluded\",\n",
    ")\n",
    "ax[0].set_xlabel(\"frame\")\n",
    "ax[0].set_ylabel(\"v / m/s\")\n",
    "ax[0].legend()\n",
    "\n",
    "ax[1].plot(\n",
    "    speed_single_sided.frame[\n",
    "        speed_single_sided.frame\n",
    "        < speed_single_sided.frame.min() + 3 * frame_step\n",
    "    ],\n",
    "    speed_single_sided.speed[\n",
    "        speed_single_sided.frame\n",
    "        < speed_single_sided.frame.min() + 3 * frame_step\n",
    "    ],\n",
    "    color=PEDPY_GREY,\n",
    "    linewidth=3,\n",
    ")\n",
    "ax[1].plot(\n",
    "    speed_adaptive.frame[\n",
    "        speed_adaptive.frame < speed_single_sided.frame.min() + 3 * frame_step\n",
    "    ],\n",
    "    speed_adaptive.speed[\n",
    "        speed_adaptive.frame < speed_single_sided.frame.min() + 3 * frame_step\n",
    "    ],\n",
    "    color=PEDPY_RED,\n",
    "    linewidth=3,\n",
    ")\n",
    "ax[1].plot(\n",
    "    speed_exclude.frame[\n",
    "        speed_exclude.frame < speed_single_sided.frame.min() + 3 * frame_step\n",
    "    ],\n",
    "    speed_exclude.speed[\n",
    "        speed_exclude.frame < speed_single_sided.frame.min() + 3 * frame_step\n",
    "    ],\n",
    "    color=PEDPY_GREEN,\n",
    "    linewidth=3,\n",
    ")\n",
    "ax[1].set_xlabel(\"frame\")\n",
    "\n",
    "ax[2].plot(\n",
    "    speed_single_sided.frame[\n",
    "        speed_single_sided.frame\n",
    "        > speed_single_sided.frame.max() - 3 * frame_step\n",
    "    ],\n",
    "    speed_single_sided.speed[\n",
    "        speed_single_sided.frame\n",
    "        > speed_single_sided.frame.max() - 3 * frame_step\n",
    "    ],\n",
    "    color=PEDPY_GREY,\n",
    "    linewidth=3,\n",
    ")\n",
    "ax[2].plot(\n",
    "    speed_adaptive.frame[\n",
    "        speed_adaptive.frame > speed_single_sided.frame.max() - 3 * frame_step\n",
    "    ],\n",
    "    speed_adaptive.speed[\n",
    "        speed_adaptive.frame > speed_single_sided.frame.max() - 3 * frame_step\n",
    "    ],\n",
    "    color=PEDPY_RED,\n",
    "    linewidth=3,\n",
    ")\n",
    "ax[2].plot(\n",
    "    speed_exclude.frame[\n",
    "        speed_exclude.frame > speed_single_sided.frame.max() - 3 * frame_step\n",
    "    ],\n",
    "    speed_exclude.speed[\n",
    "        speed_exclude.frame > speed_single_sided.frame.max() - 3 * frame_step\n",
    "    ],\n",
    "    color=PEDPY_GREEN,\n",
    "    linewidth=3,\n",
    ")\n",
    "\n",
    "ax[2].set_xlabel(\"frame\")\n",
    "plt.show()"
   ]
  },
  {
   "cell_type": "markdown",
   "metadata": {},
   "source": [
    "##### Individual speed in specific movement direction\n",
    "\n",
    "It is also possible to compute the individual speed in a specific direction $d$, for this the movement $\\bar{X}$ is projected onto the desired movement direction. $\\bar{X}$ and $\\Delta t$ are computed as described above. \n",
    "Hence, the speed then becomes:\n",
    "\n",
    "$$\n",
    "    v_i(t) = {{|\\boldsymbol{proj}_d\\; \\bar{X}|} \\over {\\Delta t}}\n",
    "$$\n",
    "\n",
    "```{eval-rst}\n",
    ".. image:: images/speed_movement_direction.svg\n",
    "    :width: 80 %\n",
    "```\n",
    "\n",
    ":::{important}\n",
    "When using a specific direction, the computed speed may become negative.\n",
    ":::"
   ]
  },
  {
   "cell_type": "code",
   "execution_count": null,
   "metadata": {
    "collapsed": false,
    "jupyter": {
     "outputs_hidden": false
    }
   },
   "outputs": [],
   "source": [
    "individual_speed_direction = compute_individual_speed(\n",
    "    traj_data=traj,\n",
    "    frame_step=5,\n",
    "    movement_direction=np.array([0, -1]),\n",
    "    compute_velocity=True,\n",
    "    speed_calculation=SpeedCalculation.BORDER_SINGLE_SIDED,\n",
    ")"
   ]
  },
  {
   "cell_type": "code",
   "execution_count": null,
   "metadata": {
    "collapsed": false,
    "jupyter": {
     "outputs_hidden": false
    },
    "tags": [
     "hide-input"
    ]
   },
   "outputs": [],
   "source": [
    "from pedpy import PEDPY_BLUE, PEDPY_GREY, PEDPY_RED, PEDPY_GREEN\n",
    "import matplotlib.pyplot as plt\n",
    "\n",
    "colors = [PEDPY_BLUE, PEDPY_GREY, PEDPY_RED, PEDPY_GREEN]\n",
    "ped_ids = [10, 20, 17, 70]\n",
    "\n",
    "fig = plt.figure()\n",
    "plt.title(\n",
    "    \"Velocity time-series of an excerpt of the pedestrians in a specific direction\"\n",
    ")\n",
    "for color, ped_id in zip(colors, ped_ids):\n",
    "    single_individual_speed = individual_speed_direction[\n",
    "        individual_speed_direction.id == ped_id\n",
    "    ]\n",
    "    plt.plot(\n",
    "        single_individual_speed.frame,\n",
    "        single_individual_speed.speed,\n",
    "        color=color,\n",
    "    )\n",
    "\n",
    "plt.xlabel(\"frame\")\n",
    "plt.ylabel(\"v / m/s\")\n",
    "plt.show()"
   ]
  },
  {
   "cell_type": "markdown",
   "metadata": {
    "collapsed": false,
    "jupyter": {
     "outputs_hidden": false
    }
   },
   "source": [
    "(mean_speed)=\n",
    " #### Mean speed\n",
    "\n",
    "Now, that we have computed the individual's speed, we want to compute the mean speed in the already used {class}`measurement area <geometry.MeasurementArea>` $M$ closely in front of the bottleneck.\n",
    "The mean speed is defined as\n",
    "\n",
    "$$\n",
    "    v_{mean}(t) = {{1} \\over {N}} \\sum_{i \\in P_M} v_i(t), \n",
    "$$\n",
    "\n",
    "where $P_M$ are all pedestrians inside the {class}`measurement area <geometry.MeasurementArea>`, and $N$ the number of pedestrians inside the {class}`measurement area <geometry.MeasurementArea>` ($|P_M|$).\n",
    "\n",
    ":::{important}\n",
    "The mean speed can only be computed when for each pedestrian inside the {class}`measurement area <geometry.MeasurementArea>` also a speed $v_i(t)$ is computed, when using the exclude or adaptive approach this might not be the case.\n",
    "Then some extra processing steps are needed, to avoid this use the single sided approach. \n",
    ":::\n",
    "\n",
    "This can be as follows with *PedPy*:\n",
    " "
   ]
  },
  {
   "cell_type": "code",
   "execution_count": null,
   "metadata": {
    "collapsed": false,
    "jupyter": {
     "outputs_hidden": false
    }
   },
   "outputs": [],
   "source": [
    "from pedpy import compute_mean_speed_per_frame\n",
    "\n",
    "mean_speed = compute_mean_speed_per_frame(\n",
    "    traj_data=traj,\n",
    "    measurement_area=measurement_area,\n",
    "    individual_speed=individual_speed_single_sided,\n",
    ")"
   ]
  },
  {
   "cell_type": "code",
   "execution_count": null,
   "metadata": {
    "collapsed": false,
    "jupyter": {
     "outputs_hidden": false
    },
    "tags": [
     "hide-input"
    ]
   },
   "outputs": [],
   "source": [
    "from pedpy import plot_speed, PEDPY_BLUE\n",
    "import matplotlib.pyplot as plt\n",
    "\n",
    "plot_speed(\n",
    "    speed=mean_speed,\n",
    "    title=\"Mean speed in front of the bottleneck\",\n",
    "    color=PEDPY_BLUE,\n",
    ")\n",
    "plt.show()"
   ]
  },
  {
   "cell_type": "markdown",
   "metadata": {},
   "source": [
    "The same can be now computed, using the speed in a movement direction as basis:"
   ]
  },
  {
   "cell_type": "code",
   "execution_count": null,
   "metadata": {
    "collapsed": false,
    "jupyter": {
     "outputs_hidden": false
    }
   },
   "outputs": [],
   "source": [
    "mean_speed_direction = compute_mean_speed_per_frame(\n",
    "    traj_data=traj,\n",
    "    measurement_area=measurement_area,\n",
    "    individual_speed=individual_speed_direction,\n",
    ")"
   ]
  },
  {
   "cell_type": "code",
   "execution_count": null,
   "metadata": {
    "collapsed": false,
    "jupyter": {
     "outputs_hidden": false
    },
    "tags": [
     "hide-input"
    ]
   },
   "outputs": [],
   "source": [
    "from pedpy import plot_speed, PEDPY_RED\n",
    "import matplotlib.pyplot as plt\n",
    "\n",
    "plot_speed(\n",
    "    speed=mean_speed_direction,\n",
    "    title=\"Mean speed in specific direction in front of the bottleneck\",\n",
    "    color=PEDPY_RED,\n",
    ")\n",
    "plt.show()"
   ]
  },
  {
   "cell_type": "markdown",
   "metadata": {
    "collapsed": false,
    "jupyter": {
     "outputs_hidden": false
    }
   },
   "source": [
    "(voronoi_speed)=\n",
    " #### Voronoi speed\n",
    "\n",
    "A further approach to compute average speed $v_{voronoi}(t)$ in an area by weighting the individuals speed by the size of their corresponding Voronoi polygon $V_i$ inside the {class}`measurement area <geometry.MeasurementArea>` $M$.\n",
    "The individuals speed are weighted by the proportion of their Voronoi cell $V_i$ and the intersection with the {class}`measurement area <geometry.MeasurementArea>` $V_i \\cap M$.\n",
    "\n",
    "The Voronoi speed $v_{voronoi}(t)$ is defined as\n",
    "\n",
    "$$\n",
    "        v_{voronoi}(t) = { \\int\\int v_{xy}(t) dxdy \\over A(M)},\n",
    "$$\n",
    "\n",
    "where $v_{xy}(t) = v_i(t)$ is the individual speed of each pedestrian, whose $V_i(t) \\cap M$ and $A(M)$ the area of the {class}`measurement area <geometry.MeasurementArea>`.\n",
    "\n",
    "```{eval-rst}\n",
    ".. image:: /images/voronoi_density.svg\n",
    "    :width: 60 %\n",
    "    :align: center\n",
    "```\n",
    "\n",
    ":::{important}\n",
    "The Voronoi speed can only be computed when for each pedestrian inside the {class}`measurement area <geometry.MeasurementArea>` also a speed $v_i(t)$ is computed, when using the exclude or adaptive approach this might not be the case.\n",
    "Then some extra processing steps are needed, to avoid this use the single sided approach. \n",
    ":::\n",
    "\n",
    "This can be done in *PedPy* with:"
   ]
  },
  {
   "cell_type": "code",
   "execution_count": null,
   "metadata": {
    "collapsed": false,
    "jupyter": {
     "outputs_hidden": false
    }
   },
   "outputs": [],
   "source": [
    "from pedpy import compute_voronoi_speed\n",
    "\n",
    "voronoi_speed = compute_voronoi_speed(\n",
    "    traj_data=traj,\n",
    "    individual_voronoi_intersection=intersecting,\n",
    "    individual_speed=individual_speed_single_sided,\n",
    "    measurement_area=measurement_area,\n",
    ")"
   ]
  },
  {
   "cell_type": "code",
   "execution_count": null,
   "metadata": {
    "collapsed": false,
    "jupyter": {
     "outputs_hidden": false
    },
    "tags": [
     "hide-input"
    ]
   },
   "outputs": [],
   "source": [
    "from pedpy import plot_speed, PEDPY_ORANGE\n",
    "import matplotlib.pyplot as plt\n",
    "\n",
    "plot_speed(\n",
    "    speed=voronoi_speed,\n",
    "    title=\"Voronoi speed in front of the bottleneck\",\n",
    "    color=PEDPY_ORANGE,\n",
    ")\n",
    "plt.show()"
   ]
  },
  {
   "cell_type": "markdown",
   "metadata": {},
   "source": [
    "Analogously, this can be done with the speed in a specific direction with:"
   ]
  },
  {
   "cell_type": "code",
   "execution_count": null,
   "metadata": {
    "collapsed": false,
    "jupyter": {
     "outputs_hidden": false
    }
   },
   "outputs": [],
   "source": [
    "voronoi_speed_direction = compute_voronoi_speed(\n",
    "    traj_data=traj,\n",
    "    individual_voronoi_intersection=intersecting,\n",
    "    individual_speed=individual_speed_direction,\n",
    "    measurement_area=measurement_area,\n",
    ")"
   ]
  },
  {
   "cell_type": "code",
   "execution_count": null,
   "metadata": {
    "collapsed": false,
    "jupyter": {
     "outputs_hidden": false
    },
    "tags": [
     "hide-input"
    ]
   },
   "outputs": [],
   "source": [
    "from pedpy import plot_speed, PEDPY_GREY\n",
    "import matplotlib.pyplot as plt\n",
    "\n",
    "plot_speed(\n",
    "    speed=voronoi_speed,\n",
    "    title=\"Voronoi velocity in specific direction in front of the bottleneck\",\n",
    "    color=PEDPY_GREY,\n",
    ")\n",
    "plt.show()"
   ]
  },
  {
   "cell_type": "markdown",
   "metadata": {
    "collapsed": false,
    "jupyter": {
     "outputs_hidden": false
    }
   },
   "source": [
    "#### Comparison mean speed vs Voronoi speed\n",
    "\n",
    "We now computed the speed with different methods, this plot shows what the different results look like compared to each other:"
   ]
  },
  {
   "cell_type": "code",
   "execution_count": null,
   "metadata": {
    "tags": [
     "hide-input"
    ]
   },
   "outputs": [],
   "source": [
    "from pedpy import PEDPY_ORANGE, PEDPY_GREY, PEDPY_BLUE, PEDPY_RED\n",
    "import matplotlib.pyplot as plt\n",
    "\n",
    "plt.figure(figsize=(8, 6))\n",
    "plt.title(\"Comparison of different speed methods\")\n",
    "plt.plot(\n",
    "    voronoi_speed.reset_index().frame,\n",
    "    voronoi_speed,\n",
    "    label=\"Voronoi\",\n",
    "    color=PEDPY_ORANGE,\n",
    ")\n",
    "plt.plot(\n",
    "    voronoi_speed_direction.reset_index().frame,\n",
    "    voronoi_speed_direction,\n",
    "    label=\"Voronoi direction\",\n",
    "    color=PEDPY_GREY,\n",
    ")\n",
    "plt.plot(\n",
    "    mean_speed.reset_index().frame,\n",
    "    mean_speed,\n",
    "    label=\"classic\",\n",
    "    color=PEDPY_BLUE,\n",
    ")\n",
    "plt.plot(\n",
    "    mean_speed_direction.reset_index().frame,\n",
    "    mean_speed_direction,\n",
    "    label=\"classic direction\",\n",
    "    color=PEDPY_RED,\n",
    ")\n",
    "plt.xlabel(\"frame\")\n",
    "plt.ylabel(\"v / m/s\")\n",
    "plt.legend()\n",
    "plt.grid()\n",
    "plt.show()"
   ]
  },
  {
   "cell_type": "markdown",
   "metadata": {
    "collapsed": false,
    "jupyter": {
     "outputs_hidden": false
    }
   },
   "source": [
    "#### Passing speed (individual)\n",
    "\n",
    "With the same principles as described in [passing density](passing_density), the individual speeds $v^i_{passing}$ is defined as\n",
    "\n",
    "$$\n",
    "    v^i_{passing} = \\frac{d}{t_{out}-t_{in}},\n",
    "$$\n",
    "\n",
    "where $d$ is the distance between the two {class}`measurement lines <geometry.MeasurementLine>`.\n",
    "\n",
    "In *PedPy* this can be done with: "
   ]
  },
  {
   "cell_type": "code",
   "execution_count": null,
   "metadata": {
    "collapsed": false,
    "jupyter": {
     "outputs_hidden": false
    }
   },
   "outputs": [],
   "source": [
    "from pedpy import compute_passing_speed\n",
    "from pedpy import compute_frame_range_in_area\n",
    "\n",
    "passing_offset = 1.0\n",
    "frames_in_area, _ = compute_frame_range_in_area(\n",
    "    traj_data=traj, measurement_line=measurement_line, width=passing_offset\n",
    ")\n",
    "passing_speed = compute_passing_speed(\n",
    "    frames_in_area=frames_in_area,\n",
    "    frame_rate=traj.frame_rate,\n",
    "    distance=passing_offset,\n",
    ")"
   ]
  },
  {
   "cell_type": "code",
   "execution_count": null,
   "metadata": {
    "collapsed": false,
    "jupyter": {
     "outputs_hidden": false
    },
    "tags": [
     "hide-input"
    ]
   },
   "outputs": [],
   "source": [
    "from pedpy import plot_speed_distribution\n",
    "import matplotlib.pyplot as plt\n",
    "\n",
    "plot_speed_distribution(\n",
    "    speed=passing_speed, title=\"Individual speed in bottleneck\"\n",
    ")\n",
    "plt.show()"
   ]
  },
  {
   "cell_type": "markdown",
   "metadata": {
    "collapsed": false,
    "jupyter": {
     "outputs_hidden": false
    }
   },
   "source": [
    "### Flow\n",
    "\n",
    "Another important metric, when analyzing pedestrian flows is the flow itself.\n",
    "It describes how many persons cross a line in a given time.\n",
    "From this potential bottlenecks or congestion can be derived."
   ]
  },
  {
   "cell_type": "markdown",
   "metadata": {
    "collapsed": false,
    "jupyter": {
     "outputs_hidden": false
    }
   },
   "source": [
    "#### N-t diagram at bottleneck\n",
    "\n",
    "To get a first impression of the flow at the bottleneck we look at the N-t diagram, which shows how many pedestrian have crossed the {class}`measurement line <geometry.MeasurementLine>` at a specific time."
   ]
  },
  {
   "cell_type": "code",
   "execution_count": null,
   "metadata": {
    "collapsed": false,
    "jupyter": {
     "outputs_hidden": false
    }
   },
   "outputs": [],
   "source": [
    "from pedpy import compute_n_t\n",
    "\n",
    "nt, crossing = compute_n_t(\n",
    "    traj_data=traj,\n",
    "    measurement_line=measurement_line,\n",
    ")"
   ]
  },
  {
   "cell_type": "code",
   "execution_count": null,
   "metadata": {
    "collapsed": false,
    "jupyter": {
     "outputs_hidden": false
    },
    "tags": [
     "hide-input"
    ]
   },
   "outputs": [],
   "source": [
    "from pedpy import plot_nt\n",
    "import matplotlib.pyplot as plt\n",
    "\n",
    "plot_nt(nt=nt, title=\"N-t at bottleneck\")\n",
    "plt.show()"
   ]
  },
  {
   "cell_type": "markdown",
   "metadata": {
    "collapsed": false,
    "jupyter": {
     "outputs_hidden": false
    }
   },
   "source": [
    "#### Flow at bottleneck\n",
    "\n",
    "From the N-t data we then can compute the flow at the bottleneck.\n",
    "\n",
    "For the computation of the flow we look at frame intervals $\\Delta frame$ in which the flow is computed.\n",
    "The first intervals starts, when the first person crossed the {class}`measurement line <geometry.MeasurementLine>`.\n",
    "The next interval always starts at the time when the last person in the previous frame interval crossed the line.\n",
    "\n",
    "```{eval-rst}\n",
    ".. image:: images/flow.svg\n",
    "    :align: center\n",
    "    :width: 80 %\n",
    "```\n",
    "\n",
    "In each of the time interval it is checked, if any person has crossed the line, if yes, a flow $J$ can be computed.\n",
    "From the first frame the line was crossed $f^{\\Delta frame}_1$, the last frame someone crossed the line $f^{\\Delta frame}_N$ the length of the frame interval $\\Delta f$ can be computed:\n",
    "\n",
    "$$\n",
    "    \\Delta f = f^{\\Delta frame}_N - f^{\\Delta frame}_1\n",
    "$$\n",
    "\n",
    "This directly together with the frame rate of the trajectory $fps$ gives the time interval $\\Delta t$:\n",
    "\n",
    "$$\n",
    "    \\Delta t = \\Delta f / fps\n",
    "$$\n",
    "\n",
    "Given the number of pedestrian crossing the line is given by $N^{\\Delta frame}$, the flow $J$ becomes:\n",
    "\n",
    "$$\n",
    "    J = \\frac{N^{\\Delta frame}}{\\Delta t}\n",
    "$$\n",
    "\n",
    "```{eval-rst}\n",
    ".. image:: images/flow_zoom.svg\n",
    "    :align: center\n",
    "    :width: 60 %\n",
    "```\n",
    "\n",
    "At the same time also the mean speed of the pedestrian when crossing the line is given by:\n",
    "\n",
    "$$\n",
    "    v_{crossing} = {1 \\over N^{\\Delta t} } \\sum^{N^{\\Delta t}}_{i=1} v_i(t)\n",
    "$$\n",
    "\n",
    "To compute the flow and mean speed when passing the line with *PedPy* use:"
   ]
  },
  {
   "cell_type": "code",
   "execution_count": null,
   "metadata": {
    "collapsed": false,
    "jupyter": {
     "outputs_hidden": false
    }
   },
   "outputs": [],
   "source": [
    "from pedpy import compute_flow\n",
    "\n",
    "delta_frame = 100\n",
    "flow = compute_flow(\n",
    "    nt=nt,\n",
    "    crossing_frames=crossing,\n",
    "    individual_speed=individual_speed_single_sided,\n",
    "    delta_frame=delta_frame,\n",
    "    frame_rate=traj.frame_rate,\n",
    ")"
   ]
  },
  {
   "cell_type": "code",
   "execution_count": null,
   "metadata": {
    "collapsed": false,
    "jupyter": {
     "outputs_hidden": false
    },
    "tags": [
     "hide-input"
    ]
   },
   "outputs": [],
   "source": [
    "from pedpy import plot_flow\n",
    "import matplotlib.pyplot as plt\n",
    "\n",
    "plot_flow(\n",
    "    flow=flow,\n",
    "    title=\"Crossing velocities at the corresponding flow at bottleneck\",\n",
    ")\n",
    "plt.show()"
   ]
  },
  {
   "cell_type": "markdown",
   "metadata": {
    "collapsed": false,
    "jupyter": {
     "outputs_hidden": false
    }
   },
   "source": [
    "### Acceleration\n",
    "\n"
   ]
  },
  {
   "cell_type": "markdown",
   "metadata": {
    "collapsed": false,
    "jupyter": {
     "outputs_hidden": false
    }
   },
   "source": [
    "#### Individual acceleration\n",
    "\n",
    "Compute the individual acceleration for each pedestrian.\n",
    "\n",
    "For computing the individuals' acceleration at a specific frame $a_i(t_k)$,\n",
    "a specific frame step ($n$) is needed.\n",
    "Together with the {class}`trajectory data<trajectory_data.TrajectoryData>` $fps$ of\n",
    "the trajectory data $fps$ the time frame $\\Delta t$ for\n",
    "computing the speed becomes:\n",
    "\n",
    "$$\n",
    "\\Delta t = 2 n / fps\n",
    "$$\n",
    "\n",
    "This time step describes how many frames before and after the current\n",
    "position $X(t_k)$ are used to compute the movement.\n",
    "These positions are called $X(t_{k+n})$, $X(t_{k-n})$\n",
    "respectively.\n",
    "\n",
    "In order to compute the acceleration at time $t_k$, we first calculate the\n",
    "displacements $\\bar{X}$ around $t_{k+n}$ and $t_{k-n}$:\n",
    "\n",
    "$$\n",
    "\\bar{X}(t_{k+n}) = X(t_{k+2n}) - X(t_{k})\n",
    "$$\n",
    "$$\n",
    "\\bar{X}(t_{k-n}) = X(t_{k}) - X(t_{k-2n})\n",
    "$$\n",
    "\n",
    "The acceleration is then calculated from the difference of the displacements\n",
    "\n",
    "$$\n",
    "\\Delta\\bar{X}(t_k) = \\bar{X}(t_{k+n}) - \\bar{X}(t_{k-n})\n",
    "$$\n",
    "\n",
    "divided by the square of the time interval $\\Delta t$:\n",
    "\n",
    "$$\n",
    "a_i(t_k) = \\Delta\\bar{X}(t_k) / \\Delta t^{2}\n",
    "$$\n",
    "\n",
    "When getting closer to the start, or end of the trajectory data, it is not\n",
    "possible to use the full range of the frame interval for computing the\n",
    "acceleration. For these cases *PedPy* offers a method to compute\n",
    "the acceleration:\n",
    "\n",
    "**Exclude border:**\n",
    "\n",
    "When not enough frames available to compute the speed at the borders, for\n",
    "these parts no acceleration can be computed and they are ignored. Use\n",
    ":code:`acceleration_calculation=AccelerationCalculation.BORDER_EXCLUDE`.\n",
    "\n"
   ]
  },
  {
   "cell_type": "code",
   "execution_count": null,
   "metadata": {
    "collapsed": false,
    "jupyter": {
     "outputs_hidden": false
    }
   },
   "outputs": [],
   "source": [
    "from pedpy import compute_individual_acceleration, AccelerationCalculation\n",
    "\n",
    "frame_step = 25\n",
    "\n",
    "individual_acceleration_exclude = compute_individual_acceleration(\n",
    "    traj_data=traj,\n",
    "    frame_step=frame_step,\n",
    "    compute_acceleration_components=True,\n",
    "    acceleration_calculation=AccelerationCalculation.BORDER_EXCLUDE,\n",
    ")"
   ]
  },
  {
   "cell_type": "code",
   "execution_count": null,
   "metadata": {
    "collapsed": false,
    "jupyter": {
     "outputs_hidden": false
    },
    "tags": [
     "hide-input"
    ]
   },
   "outputs": [],
   "source": [
    "from pedpy import PEDPY_GREEN\n",
    "import matplotlib.pyplot as plt\n",
    "\n",
    "ped_id = 50\n",
    "\n",
    "plt.figure()\n",
    "plt.title(\n",
    "    f\"Acceleration time-series of a pedestrian {ped_id} (border excluded)\"\n",
    ")\n",
    "single_individual_acceleration = individual_acceleration_exclude[\n",
    "    individual_acceleration_exclude.id == ped_id\n",
    "]\n",
    "plt.plot(\n",
    "    single_individual_acceleration.frame,\n",
    "    single_individual_acceleration.acceleration,\n",
    "    color=PEDPY_GREEN,\n",
    ")\n",
    "\n",
    "plt.xlabel(\"frame\")\n",
    "plt.ylabel(\"a / $m/s^2$\")\n",
    "plt.show()"
   ]
  },
  {
   "cell_type": "markdown",
   "metadata": {},
   "source": [
    "#### Individual acceleration in specific movement direction:\n",
    "\n",
    "It is also possible to compute the individual acceleration in a specific direction\n",
    "$d$, for this the movement $\\Delta\\bar{X}$ is projected onto the\n",
    "desired movement direction. $\\Delta\\bar{X}$ and $\\Delta t$ are\n",
    "computed as described above. Hence, the acceleration then becomes:\n",
    "\n",
    "$$\n",
    "a_i(t) = {{|\\boldsymbol{proj}_d\\; \\Delta\\bar{X}|} \\over {\\Delta t^{2}}}\n",
    "$$\n",
    "\n",
    "If :code:`compute_acceleration_components` is `True` also $\\Delta\\bar{X}$ is returned."
   ]
  },
  {
   "cell_type": "code",
   "execution_count": null,
   "metadata": {},
   "outputs": [],
   "source": [
    "individual_acceleration_direction = compute_individual_acceleration(\n",
    "    traj_data=traj,\n",
    "    frame_step=5,\n",
    "    movement_direction=np.array([0, -1]),\n",
    "    compute_acceleration_components=True,\n",
    "    acceleration_calculation=AccelerationCalculation.BORDER_EXCLUDE,\n",
    ")"
   ]
  },
  {
   "cell_type": "code",
   "execution_count": null,
   "metadata": {
    "tags": [
     "hide-input"
    ]
   },
   "outputs": [],
   "source": [
    "from pedpy import PEDPY_BLUE, PEDPY_GREY, PEDPY_RED, PEDPY_GREEN\n",
    "import matplotlib.pyplot as plt\n",
    "\n",
    "colors = [PEDPY_BLUE, PEDPY_GREY, PEDPY_RED, PEDPY_GREEN]\n",
    "ped_ids = [10, 20, 17, 70]\n",
    "\n",
    "fig = plt.figure()\n",
    "plt.title(\n",
    "    \"Acceleration time-series of an excerpt of the pedestrians in a specific direction\"\n",
    ")\n",
    "for color, ped_id in zip(colors, ped_ids):\n",
    "    single_individual_acceleration = individual_acceleration_direction[\n",
    "        individual_acceleration_direction.id == ped_id\n",
    "    ]\n",
    "    plt.plot(\n",
    "        single_individual_acceleration.frame,\n",
    "        single_individual_acceleration.acceleration,\n",
    "        color=color,\n",
    "    )\n",
    "\n",
    "plt.xlabel(\"frame\")\n",
    "plt.ylabel(\"a / $m/s^2$\")\n",
    "plt.show()"
   ]
  },
  {
   "cell_type": "markdown",
   "metadata": {},
   "source": [
    "#### Mean acceleration\n",
    "\n",
    "Compute mean acceleration per frame inside a given measurement area.\n",
    "\n",
    "Computes the mean acceleration $a_{mean}(t)$ inside the measurement area from\n",
    "the given individual acceleration data $a_i(t)$ (see\n",
    ":func:`~acceleration_calculator.compute_individual_acceleration` for\n",
    "details of the computation). The mean acceleration $a_{mean}$ is defined as\n",
    "\n",
    "$$\n",
    "a_{mean}(t) = {{1} \\over {N}} \\sum_{i \\in P_M} a_i(t),\n",
    "$$\n",
    "\n",
    "where $P_M$ are all pedestrians inside the measurement area, and\n",
    "$N$ the number of pedestrians inside the measurement area (\n",
    "$|P_M|$).\n"
   ]
  },
  {
   "cell_type": "markdown",
   "metadata": {},
   "source": [
    ":::{important}\n",
    "The mean acceleration can only be computed when for each pedestrian inside the {class}`measurement area <geometry.MeasurementArea>` also an acceleration $a_i(t)$ is computed, when using the exclude or adaptive approach this might not be the case.\n",
    "Therefore, further processing steps are needed to ensure that the trajectory data and the individual acceleration data overlap, e.g. as in the example below:"
   ]
  },
  {
   "cell_type": "code",
   "execution_count": null,
   "metadata": {},
   "outputs": [],
   "source": [
    "traj_idx = pd.MultiIndex.from_frame(traj.data[[\"id\", \"frame\"]])\n",
    "acc_idx = pd.MultiIndex.from_frame(\n",
    "    individual_acceleration_exclude[[\"id\", \"frame\"]]\n",
    ")\n",
    "# get intersecting rows in id and frame\n",
    "common_idx = traj_idx.intersection(acc_idx)\n",
    "traj_common = (\n",
    "    traj.data.set_index([\"id\", \"frame\"]).reindex(common_idx).reset_index()\n",
    ")\n",
    "\n",
    "fr = traj.frame_rate\n",
    "traj_exclude = TrajectoryData(data=traj_common, frame_rate=fr)"
   ]
  },
  {
   "cell_type": "markdown",
   "metadata": {},
   "source": [
    "Now the mean acceleration can be computed using *PedPy* with:"
   ]
  },
  {
   "cell_type": "code",
   "execution_count": null,
   "metadata": {},
   "outputs": [],
   "source": [
    "from pedpy import compute_mean_acceleration_per_frame\n",
    "\n",
    "mean_acceleration = compute_mean_acceleration_per_frame(\n",
    "    traj_data=traj_exclude,\n",
    "    measurement_area=measurement_area,\n",
    "    individual_acceleration=individual_acceleration_exclude,\n",
    ")"
   ]
  },
  {
   "cell_type": "code",
   "execution_count": null,
   "metadata": {
    "tags": [
     "hide-input"
    ]
   },
   "outputs": [],
   "source": [
    "from pedpy import plot_acceleration, PEDPY_BLUE\n",
    "import matplotlib.pyplot as plt\n",
    "\n",
    "plot_acceleration(\n",
    "    acceleration=mean_acceleration,\n",
    "    title=\"Mean acceleration in front of the bottleneck\",\n",
    "    color=PEDPY_BLUE,\n",
    ")\n",
    "plt.show()"
   ]
  },
  {
   "cell_type": "markdown",
   "metadata": {},
   "source": [
    "The same can be now computed, using the speed in a movement direction as basis:"
   ]
  },
  {
   "cell_type": "code",
   "execution_count": null,
   "metadata": {},
   "outputs": [],
   "source": [
    "mean_acceleration_direction = compute_mean_acceleration_per_frame(\n",
    "    traj_data=traj_exclude,\n",
    "    measurement_area=measurement_area,\n",
    "    individual_acceleration=individual_acceleration_direction,\n",
    ")"
   ]
  },
  {
   "cell_type": "code",
   "execution_count": null,
   "metadata": {
    "tags": [
     "hide-input"
    ]
   },
   "outputs": [],
   "source": [
    "from pedpy import plot_acceleration, PEDPY_RED\n",
    "import matplotlib.pyplot as plt\n",
    "\n",
    "plot_acceleration(\n",
    "    acceleration=mean_acceleration_direction,\n",
    "    title=\"Mean acceleration in specific direction in front of the bottleneck\",\n",
    "    color=PEDPY_RED,\n",
    ")\n",
    "plt.show()"
   ]
  },
  {
   "cell_type": "markdown",
   "metadata": {},
   "source": [
    "#### Voronoi acceleration\n",
    "Compute the Voronoi acceleration per frame inside the measurement area.\n",
    "\n",
    "Computes the Voronoi acceleration $a_{voronoi}(t)$ inside the measurement\n",
    "area $M$ from the given individual acceleration data $a_i(t)$ (see\n",
    ":func:`~acceleration_calculator.compute_individual_acceleration` for\n",
    "details of the computation) and their individual Voronoi intersection data\n",
    "(from :func:`~density_calculator.compute_voronoi_density`).\n",
    "The individuals' accelerations are weighted by the proportion of their Voronoi cell\n",
    "$V_i$ and the intersection with the measurement area\n",
    "$V_i \\cap M$.\n",
    "\n",
    "The Voronoi acceleration $a_{voronoi}(t)$ is defined as\n",
    "\n",
    "$$\n",
    "a_{voronoi}(t) = { \\int\\int a_{xy}(t) dxdy \\over A(M)},\n",
    "$$\n",
    "\n",
    "where $a_{xy}(t) = a_i(t)$ is the individual acceleration of\n",
    "each pedestrian, whose $V_i(t) \\cap M$ and $A(M)$ the area of\n",
    "the measurement area.\n",
    "\n",
    "This can be as follows with *PedPy*:"
   ]
  },
  {
   "cell_type": "markdown",
   "metadata": {},
   "source": [
    ":::{important}\n",
    "The Voronoi acceleration can only be computed when for each pedestrian inside the {class}`measurement area <geometry.MeasurementArea>` also an acceleration $a_i(t)$ is computed, when using the exclude or adaptive approach this might not be the case.\n",
    "\n",
    "Therefore, further processing steps are needed to ensure that the trajectory data, the individual acceleration dara as well as the intersecting Voronoi cell data overlap. We assume that the trajectory data is already overlapping (see example above). The intersecting voronoi cells can be filtered, e.g., as in the example below:"
   ]
  },
  {
   "cell_type": "code",
   "execution_count": null,
   "metadata": {},
   "outputs": [],
   "source": [
    "intersecting_idx = pd.MultiIndex.from_frame(intersecting[[\"id\", \"frame\"]])\n",
    "acc_idx = pd.MultiIndex.from_frame(\n",
    "    individual_acceleration_exclude[[\"id\", \"frame\"]]\n",
    ")\n",
    "# get intersecting rows in id and frame\n",
    "common_idx = intersecting_idx.intersection(acc_idx)\n",
    "intersecting_exclude = (\n",
    "    intersecting.set_index([\"id\", \"frame\"]).reindex(common_idx).reset_index()\n",
    ")"
   ]
  },
  {
   "cell_type": "markdown",
   "metadata": {},
   "source": [
    "Now the Voronoi acceleration can be computed using *PedPy* with:"
   ]
  },
  {
   "cell_type": "code",
   "execution_count": null,
   "metadata": {},
   "outputs": [],
   "source": [
    "from pedpy import compute_voronoi_acceleration\n",
    "\n",
    "voronoi_acceleration = compute_voronoi_acceleration(\n",
    "    traj_data=traj_exclude,\n",
    "    individual_voronoi_intersection=intersecting_exclude,\n",
    "    individual_acceleration=individual_acceleration_exclude,\n",
    "    measurement_area=measurement_area,\n",
    ")"
   ]
  },
  {
   "cell_type": "code",
   "execution_count": null,
   "metadata": {
    "tags": [
     "hide-input"
    ]
   },
   "outputs": [],
   "source": [
    "from pedpy import plot_acceleration, PEDPY_ORANGE\n",
    "import matplotlib.pyplot as plt\n",
    "\n",
    "plot_acceleration(\n",
    "    acceleration=voronoi_acceleration,\n",
    "    title=\"Voronoi acceleration in front of the bottleneck\",\n",
    "    color=PEDPY_ORANGE,\n",
    ")\n",
    "plt.show()"
   ]
  },
  {
   "cell_type": "markdown",
   "metadata": {},
   "source": [
    "Analogously, this can be done with the acceleration in a specific direction with:"
   ]
  },
  {
   "cell_type": "code",
   "execution_count": null,
   "metadata": {},
   "outputs": [],
   "source": [
    "voronoi_acceleration_direction = compute_voronoi_acceleration(\n",
    "    traj_data=traj_exclude,\n",
    "    individual_voronoi_intersection=intersecting_exclude,\n",
    "    individual_acceleration=individual_acceleration_direction,\n",
    "    measurement_area=measurement_area,\n",
    ")"
   ]
  },
  {
   "cell_type": "code",
   "execution_count": null,
   "metadata": {
    "tags": [
     "hide-input"
    ]
   },
   "outputs": [],
   "source": [
    "from pedpy import plot_acceleration, PEDPY_GREY\n",
    "import matplotlib.pyplot as plt\n",
    "\n",
    "plot_acceleration(\n",
    "    acceleration=voronoi_acceleration,\n",
    "    title=\"Voronoi acceleration in specific direction in front of the bottleneck\",\n",
    "    color=PEDPY_GREY,\n",
    ")\n",
    "plt.show()"
   ]
  },
  {
   "cell_type": "markdown",
   "metadata": {},
   "source": [
    "#### Comparison mean acceleration vs Voronoi acceleration\n",
    "\n",
    "We now computed the acceleration with different methods, this plot shows what the different results look like compared to each other:"
   ]
  },
  {
   "cell_type": "code",
   "execution_count": null,
   "metadata": {
    "tags": [
     "hide-input"
    ]
   },
   "outputs": [],
   "source": [
    "from pedpy import PEDPY_ORANGE, PEDPY_GREY, PEDPY_BLUE, PEDPY_RED\n",
    "import matplotlib.pyplot as plt\n",
    "\n",
    "plt.figure(figsize=(8, 6))\n",
    "plt.title(\"Comparison of different acceleration methods\")\n",
    "plt.plot(\n",
    "    voronoi_acceleration.reset_index().frame,\n",
    "    voronoi_acceleration,\n",
    "    label=\"Voronoi\",\n",
    "    color=PEDPY_ORANGE,\n",
    ")\n",
    "plt.plot(\n",
    "    voronoi_acceleration_direction.reset_index().frame,\n",
    "    voronoi_acceleration_direction,\n",
    "    label=\"Voronoi direction\",\n",
    "    color=PEDPY_GREY,\n",
    ")\n",
    "plt.plot(\n",
    "    mean_acceleration.reset_index().frame,\n",
    "    mean_acceleration,\n",
    "    label=\"classic\",\n",
    "    color=PEDPY_BLUE,\n",
    ")\n",
    "plt.plot(\n",
    "    mean_acceleration_direction.reset_index().frame,\n",
    "    mean_acceleration_direction,\n",
    "    label=\"classic direction\",\n",
    "    color=PEDPY_RED,\n",
    ")\n",
    "plt.xlabel(\"frame\")\n",
    "plt.ylabel(\"a / $m/s^2$\")\n",
    "plt.legend()\n",
    "plt.grid()\n",
    "plt.show()"
   ]
  },
  {
   "cell_type": "markdown",
   "metadata": {
    "collapsed": false,
    "jupyter": {
     "outputs_hidden": false
    }
   },
   "source": [
    "### Neighborhood\n",
    "\n",
    "To analyze, which pedestrians are close to each other, it is possible to compute the neighbors of each pedestrian.\n",
    "We define two pedestrians as neighbors if their Voronoi polygons ($V_i$, $V_j$) touch at some point, in case of *PedPy* they are touching if their distance is below 1mm.\n",
    "As basis for the computation one can either use the uncut or cut Voronoi polygons.\n",
    "When using the uncut Voronoi polygons, pedestrian may be detected as neighbors even when their distance is quite large in low density situation.\n",
    "Therefor, it is recommended to use the cut Voronoi polygons, where the cut-off radius can be used to define a maximal distance between neighboring pedestrians.\n",
    "\n",
    "To compute the neighbors in *PedPy* use:"
   ]
  },
  {
   "cell_type": "code",
   "execution_count": null,
   "metadata": {
    "collapsed": false,
    "jupyter": {
     "outputs_hidden": false
    }
   },
   "outputs": [],
   "source": [
    "from pedpy import compute_neighbors\n",
    "\n",
    "neighbors = compute_neighbors(individual_cutoff)"
   ]
  },
  {
   "cell_type": "code",
   "execution_count": null,
   "metadata": {
    "collapsed": false,
    "jupyter": {
     "outputs_hidden": false
    },
    "tags": [
     "hide-input"
    ]
   },
   "outputs": [],
   "source": [
    "from pedpy import plot_neighborhood\n",
    "import matplotlib.pyplot as plt\n",
    "\n",
    "plot_neighborhood(\n",
    "    pedestrian_id=8,\n",
    "    voronoi_data=individual_cutoff,\n",
    "    frame=350,\n",
    "    neighbors=neighbors,\n",
    "    walkable_area=walkable_area,\n",
    ").set_aspect(\"equal\")\n",
    "plt.show()"
   ]
  },
  {
   "cell_type": "markdown",
   "metadata": {},
   "source": [
    "### Distance to entrance/Time to entrance\n",
    "\n",
    "An indicator to detect congestions or jams in {class}`trajectory data<trajectory_data.TrajectoryData>` are distance/time to crossing.\n",
    "It shows how much time until the crossing of the {class}`measurement line <geometry.MeasurementLine>` is left and how big the distance to that line is.\n",
    "\n",
    "In *PedPy* this can be done with:"
   ]
  },
  {
   "cell_type": "code",
   "execution_count": null,
   "metadata": {},
   "outputs": [],
   "source": [
    "from pedpy import compute_time_distance_line\n",
    "\n",
    "df_time_distance = compute_time_distance_line(\n",
    "    traj_data=traj, measurement_line=measurement_line\n",
    ")"
   ]
  },
  {
   "cell_type": "code",
   "execution_count": null,
   "metadata": {
    "tags": [
     "hide-input"
    ]
   },
   "outputs": [],
   "source": [
    "from pedpy import plot_time_distance\n",
    "import matplotlib.pyplot as plt\n",
    "\n",
    "plot_time_distance(\n",
    "    time_distance=df_time_distance,\n",
    "    title=\"Distance to entrance/Time to entrance\",\n",
    "    frame_rate=traj.frame_rate,\n",
    ")\n",
    "plt.show()"
   ]
  },
  {
   "cell_type": "markdown",
   "metadata": {},
   "source": [
    "You can also color the lines based on speed values. \n",
    "To achieve this, simply provide a speed DataFrame as an argument to the function:"
   ]
  },
  {
   "cell_type": "code",
   "execution_count": null,
   "metadata": {},
   "outputs": [],
   "source": [
    "speed = compute_individual_speed(traj_data=traj, frame_step=5)\n",
    "plot_time_distance(\n",
    "    time_distance=df_time_distance,\n",
    "    title=\"Distance to entrance/Time to entrance - colored\",\n",
    "    frame_rate=traj.frame_rate,\n",
    "    speed=speed,\n",
    ")\n",
    "plt.show()"
   ]
  },
  {
   "cell_type": "markdown",
   "metadata": {
    "collapsed": false,
    "jupyter": {
     "outputs_hidden": false
    }
   },
   "source": [
    "### Profiles\n",
    "\n",
    "For the computation of the profiles the given {class}`walkable area <geometry.WalkableArea>` is divided into square grid cells.\n",
    "Each of these grid cells is then used as a {class}`measurement area <geometry.MeasurementArea>`  to compute the density and speed.\n",
    "\n",
    "```{eval-rst}\n",
    ".. image:: /images/profile_grid.svg\n",
    "    :width: 70 %\n",
    "    :align: center\n",
    "```\n",
    "\n",
    ":::{note}\n",
    "As this is a quite compute heavy operation, it is suggested to reduce the trajectories to the important areas and limit the input data to the most relevant frame interval.\n",
    ":::"
   ]
  },
  {
   "cell_type": "code",
   "execution_count": null,
   "metadata": {
    "collapsed": false,
    "jupyter": {
     "outputs_hidden": false
    }
   },
   "outputs": [],
   "source": [
    "from pedpy import (\n",
    "    compute_individual_voronoi_polygons,\n",
    "    compute_individual_speed,\n",
    "    SpeedCalculation,\n",
    "    Cutoff,\n",
    ")\n",
    "\n",
    "individual_cutoff = compute_individual_voronoi_polygons(\n",
    "    traj_data=traj,\n",
    "    walkable_area=walkable_area,\n",
    "    cut_off=Cutoff(radius=0.8, quad_segments=3),\n",
    ")\n",
    "\n",
    "individual_speed = compute_individual_speed(\n",
    "    traj_data=traj,\n",
    "    frame_step=5,\n",
    "    speed_calculation=SpeedCalculation.BORDER_SINGLE_SIDED,\n",
    ")\n",
    "\n",
    "profile_data = individual_speed.merge(individual_cutoff, on=[ID_COL, FRAME_COL])\n",
    "profile_data = profile_data.merge(traj.data, on=[ID_COL, FRAME_COL])"
   ]
  },
  {
   "cell_type": "code",
   "execution_count": null,
   "metadata": {},
   "outputs": [],
   "source": [
    "from pedpy import (\n",
    "    get_grid_cells,\n",
    "    compute_grid_cell_polygon_intersection_area,\n",
    ")\n",
    "\n",
    "grid_size = 0.4\n",
    "grid_cells, _, _ = get_grid_cells(\n",
    "    walkable_area=walkable_area, grid_size=grid_size\n",
    ")\n",
    "\n",
    "min_frame_profiles = 250  # We use here just an excerpt of the\n",
    "max_frame_profiles = 400  # trajectory data to reduce compute time\n",
    "\n",
    "profile_data = profile_data[\n",
    "    profile_data.frame.between(min_frame_profiles, max_frame_profiles)\n",
    "]\n",
    "\n",
    "# Compute the grid intersection area for the resorted profile data (they have the same sorting)\n",
    "# for usage in multiple calls to not run the compute heavy operation multiple times\n",
    "(\n",
    "    grid_cell_intersection_area,\n",
    "    resorted_profile_data,\n",
    ") = compute_grid_cell_polygon_intersection_area(\n",
    "    data=profile_data, grid_cells=grid_cells\n",
    ")"
   ]
  },
  {
   "cell_type": "markdown",
   "metadata": {},
   "source": [
    "#### Speed Profiles\n",
    "\n",
    "This documentation describes the methods available for computing speed profiles within a specified area, focusing on pedestrian movements. Four distinct methods are detailed: Voronoi, Arithmetic, Mean, and Gauss speed profiles.\n",
    "\n",
    "**Voronoi speed profile**\n",
    "\n",
    "The Voronoi speed profile $v_{\\text{voronoi}}$ is computed from a weighted mean of pedestrian speeds.\n",
    " It utilizes the area overlap between a pedestrian's Voronoi cell ($V_i$) and the grid cell ($c$). The weight corresponds to the fraction of the Voronoi cell residing within the grid cell, thereby integrating speed across this intersection:\n",
    " \n",
    "$$\n",
    "        v_{\\text{voronoi}} = { \\int\\int v_{xy} dxdy \\over A(c)},\n",
    "$$\n",
    "\n",
    "where $A(c)$ represents the area of the grid cell $c$.\n",
    "\n",
    "**Arithmetic Voronoi speed profile**\n",
    "\n",
    "The arithmetic Voronoi speed $v_{\\text{arithmetic}}$ is computed as the mean of each pedestrian's speed ($v_i$), whose Voronoi cell $V_i$ intersects with grid cell $c$:\n",
    "\n",
    "$$\n",
    "        v_{\\text{arithmetic}} = \\frac{1}{N} \\sum_{i \\in V_i \\cap P_c} v_i,\n",
    "$$\n",
    "\n",
    "with $N$ being the total number of pedestrians whose Voronoi cells overlap with grid cell $c$.\n",
    "\n",
    "**Mean speed profile**\n",
    "\n",
    "The mean speed profile is computed by the average speed of all pedestrians $P_c$ present within a grid cell $c$:\n",
    "\n",
    "$$\n",
    "        v_{\\text{mean}} = \\frac{1}{N} \\sum_{i \\in P_c} v_i\n",
    "$$\n",
    "\n",
    "where $N$ denotes the number of pedestrians in grid cell $c$.\n",
    "\n",
    "**Gauss speed profiles**\n",
    "\n",
    "Calculates a speed profile based on Gaussian weights for an array of pedestrian locations and velocities. The speed, weighted at a grid cell $c$ considering its distance $\\delta = \\boldsymbol{r}_i - \\boldsymbol{c}$ from an agent, is determined as follows:\n",
    "    \n",
    "$$     \n",
    "        v_{\\text{gauss}} = \\frac{\\sum_{i=1}^{N}{\\big(w_i\\cdot v_i\\big)}}{\\sum_{i=1}^{N} w_i},\n",
    "$$\n",
    "with \n",
    "$w_i = \\frac{1} {\\sigma \\cdot \\sqrt{2\\pi}} \\exp\\big(-\\frac{\\delta^2}{2\\sigma^2}\\big)\\; \\text{and}\\; \\sigma = \\frac{FWHM}{2\\sqrt{2\\ln(2)}}.\n",
    "$"
   ]
  },
  {
   "cell_type": "code",
   "execution_count": null,
   "metadata": {},
   "outputs": [],
   "source": [
    "from pedpy import compute_speed_profile, SpeedMethod\n",
    "\n",
    "voronoi_speed_profile = compute_speed_profile(\n",
    "    data=resorted_profile_data,\n",
    "    walkable_area=walkable_area,\n",
    "    grid_intersections_area=grid_cell_intersection_area,\n",
    "    grid_size=grid_size,\n",
    "    speed_method=SpeedMethod.VORONOI,\n",
    ")\n",
    "\n",
    "arithmetic_speed_profile = compute_speed_profile(\n",
    "    data=resorted_profile_data,\n",
    "    walkable_area=walkable_area,\n",
    "    grid_intersections_area=grid_cell_intersection_area,\n",
    "    grid_size=grid_size,\n",
    "    speed_method=SpeedMethod.ARITHMETIC,\n",
    ")\n",
    "\n",
    "mean_speed_profile = compute_speed_profile(\n",
    "    data=profile_data,\n",
    "    walkable_area=walkable_area,\n",
    "    grid_size=grid_size,\n",
    "    speed_method=SpeedMethod.MEAN,\n",
    ")\n",
    "\n",
    "gauss_speed_profile = compute_speed_profile(\n",
    "    data=profile_data,\n",
    "    walkable_area=walkable_area,\n",
    "    grid_size=grid_size,\n",
    "    gaussian_width=0.5,\n",
    "    speed_method=SpeedMethod.GAUSSIAN,\n",
    ")"
   ]
  },
  {
   "cell_type": "code",
   "execution_count": null,
   "metadata": {
    "tags": [
     "hide-input"
    ]
   },
   "outputs": [],
   "source": [
    "from pedpy import plot_profiles\n",
    "import matplotlib.pyplot as plt\n",
    "\n",
    "fig, ((ax0, ax1), (ax2, ax3)) = plt.subplots(nrows=2, ncols=2)\n",
    "fig.suptitle(\"Speed profile\")\n",
    "cm = plot_profiles(\n",
    "    walkable_area=walkable_area,\n",
    "    profiles=voronoi_speed_profile,\n",
    "    axes=ax0,\n",
    "    label=\"v / m/s\",\n",
    "    vmin=0,\n",
    "    vmax=1.5,\n",
    "    title=\"Voronoi\",\n",
    ")\n",
    "cm = plot_profiles(\n",
    "    walkable_area=walkable_area,\n",
    "    profiles=arithmetic_speed_profile,\n",
    "    axes=ax1,\n",
    "    label=\"v / m/s\",\n",
    "    vmin=0,\n",
    "    vmax=1.5,\n",
    "    title=\"Arithmetic\",\n",
    ")\n",
    "cm = plot_profiles(\n",
    "    walkable_area=walkable_area,\n",
    "    profiles=gauss_speed_profile,\n",
    "    axes=ax2,\n",
    "    label=\"v / m/s\",\n",
    "    vmin=0,\n",
    "    vmax=1.5,\n",
    "    title=\"Gauss\",\n",
    ")\n",
    "cm = plot_profiles(\n",
    "    walkable_area=walkable_area,\n",
    "    profiles=mean_speed_profile,\n",
    "    axes=ax3,\n",
    "    label=\"v / m/s\",\n",
    "    vmin=0,\n",
    "    vmax=1.5,\n",
    "    title=\"Mean\",\n",
    ")\n",
    "plt.subplots_adjust(\n",
    "    left=None, bottom=None, right=None, top=None, wspace=0, hspace=0.6\n",
    ")\n",
    "plt.show()"
   ]
  },
  {
   "cell_type": "markdown",
   "metadata": {},
   "source": [
    "#### Density Profiles\n",
    "\n",
    "Currently, it is possible to compute either the Voronoi, classic or Gaussian density profiles.\n",
    "\n",
    "**Voronoi density profile**\n",
    "\n",
    "In each cell the Voronoi speed $v_{voronoi}$ is defined as\n",
    "\n",
    "$$\n",
    "    v_{voronoi}(t) = { \\int\\int v_{xy} dxdy \\over A(M)},\n",
    "$$ \n",
    "where $v_{xy} = v_i$ is the individual speed of each pedestrian, whose $V_i \\cap M$ and $A(M)$ the area the grid cell.\n",
    " \n",
    "\n",
    "**Classic density profile**\n",
    "\n",
    "In each cell the density $\\rho_{classic}$ is defined by \n",
    "\n",
    "$$  \n",
    "    \\rho_{classic} = {N \\over A(M)},\n",
    "$$\n",
    "where $N$ is the number of pedestrians inside the grid cell $M$ and the area of that grid cell ($A(M)$).\n",
    "\n",
    "\n",
    "**Gaussian density profile**\n",
    "\n",
    "In each cell the density $\\rho_{gaussian}$ is defined by \n",
    "    \n",
    "$$    \n",
    "    \\rho_{gaussian} = \\sum_{i=1}^{N}{\\delta (\\boldsymbol{r}_i - \\boldsymbol{c})},\n",
    "$$\n",
    "\n",
    "where $\\boldsymbol{r}_i$ is the position of a pedestrian and $\\boldsymbol{c}$ is the center of the grid cell. Finally $\\delta(x)$ is approximated by a Gaussian\n",
    "\n",
    "$$    \n",
    "    \\delta(x) = \\frac{1}{\\sqrt{\\pi}a}\\exp[-x^2/a^2]\n",
    "$$"
   ]
  },
  {
   "cell_type": "code",
   "execution_count": null,
   "metadata": {},
   "outputs": [],
   "source": [
    "from pedpy import compute_density_profile, DensityMethod\n",
    "\n",
    "# here it is important to use the resorted data, as it needs to be in the same ordering as \"grid_cell_intersection_area\"\n",
    "voronoi_density_profile = compute_density_profile(\n",
    "    data=resorted_profile_data,\n",
    "    walkable_area=walkable_area,\n",
    "    grid_intersections_area=grid_cell_intersection_area,\n",
    "    grid_size=grid_size,\n",
    "    density_method=DensityMethod.VORONOI,\n",
    ")\n",
    "\n",
    "# here the unsorted data can be used\n",
    "classic_density_profile = compute_density_profile(\n",
    "    data=profile_data,\n",
    "    walkable_area=walkable_area,\n",
    "    grid_size=grid_size,\n",
    "    density_method=DensityMethod.CLASSIC,\n",
    ")\n",
    "\n",
    "gaussian_density_profile = compute_density_profile(\n",
    "    data=profile_data,\n",
    "    walkable_area=walkable_area,\n",
    "    grid_size=grid_size,\n",
    "    density_method=DensityMethod.GAUSSIAN,\n",
    "    gaussian_width=0.5,\n",
    ")"
   ]
  },
  {
   "cell_type": "code",
   "execution_count": null,
   "metadata": {
    "tags": [
     "hide-input"
    ]
   },
   "outputs": [],
   "source": [
    "from pedpy import plot_profiles\n",
    "import matplotlib.pyplot as plt\n",
    "\n",
    "fig, (ax0, ax1, ax2) = plt.subplots(nrows=1, ncols=3, layout=\"constrained\")\n",
    "fig.set_size_inches(12, 5)\n",
    "fig.suptitle(\"Density profile\")\n",
    "cm = plot_profiles(\n",
    "    walkable_area=walkable_area,\n",
    "    profiles=voronoi_density_profile,\n",
    "    axes=ax0,\n",
    "    label=\"$\\\\rho$ / 1/$m^2$\",\n",
    "    vmin=0,\n",
    "    vmax=8,\n",
    "    title=\"Voronoi\",\n",
    ")\n",
    "cm = plot_profiles(\n",
    "    walkable_area=walkable_area,\n",
    "    profiles=classic_density_profile,\n",
    "    axes=ax1,\n",
    "    label=\"$\\\\rho$ / 1/$m^2$\",\n",
    "    vmin=0,\n",
    "    vmax=8,\n",
    "    title=\"Classic\",\n",
    ")\n",
    "cm = plot_profiles(\n",
    "    walkable_area=walkable_area,\n",
    "    profiles=gaussian_density_profile,\n",
    "    axes=ax2,\n",
    "    label=\"$\\\\rho$ / 1/$m^2$\",\n",
    "    vmin=0,\n",
    "    vmax=8,\n",
    "    title=\"Gaussian\",\n",
    ")\n",
    "\n",
    "plt.show()"
   ]
  },
  {
   "cell_type": "markdown",
   "metadata": {},
   "source": [
    "#### Density and Speed Profiles\n",
    "\n",
    "An other option is to compute both kinds of profile at the same time:"
   ]
  },
  {
   "cell_type": "code",
   "execution_count": null,
   "metadata": {
    "collapsed": false,
    "jupyter": {
     "outputs_hidden": false
    }
   },
   "outputs": [],
   "source": [
    "from pedpy import compute_profiles\n",
    "\n",
    "min_frame_profiles = 250  # We use here just an excerpt of the\n",
    "max_frame_profiles = 400  # trajectory data to reduce compute time\n",
    "grid_size = 0.4\n",
    "\n",
    "density_profiles, speed_profiles = compute_profiles(\n",
    "    data=pd.merge(\n",
    "        individual_cutoff[\n",
    "            individual_cutoff.frame.between(\n",
    "                min_frame_profiles, max_frame_profiles\n",
    "            )\n",
    "        ],\n",
    "        individual_speed[\n",
    "            individual_speed.frame.between(\n",
    "                min_frame_profiles, max_frame_profiles\n",
    "            )\n",
    "        ],\n",
    "        on=[ID_COL, FRAME_COL],\n",
    "    ),\n",
    "    walkable_area=walkable_area.polygon,\n",
    "    grid_size=grid_size,\n",
    "    speed_method=SpeedMethod.ARITHMETIC,\n",
    "    density_method=DensityMethod.VORONOI,\n",
    ")"
   ]
  },
  {
   "cell_type": "code",
   "execution_count": null,
   "metadata": {
    "collapsed": false,
    "jupyter": {
     "outputs_hidden": false
    },
    "tags": [
     "hide-input"
    ]
   },
   "outputs": [],
   "source": [
    "from pedpy import plot_profiles\n",
    "import matplotlib.pyplot as plt\n",
    "\n",
    "fig, (ax0, ax1) = plt.subplots(nrows=1, ncols=2)\n",
    "cm = plot_profiles(\n",
    "    walkable_area=walkable_area,\n",
    "    profiles=density_profiles,\n",
    "    axes=ax0,\n",
    "    label=\"$\\\\rho$ / 1/$m^2$\",\n",
    "    vmin=0,\n",
    "    vmax=12,\n",
    "    title=\"Density\",\n",
    ")\n",
    "cm = plot_profiles(\n",
    "    walkable_area=walkable_area,\n",
    "    profiles=speed_profiles,\n",
    "    axes=ax1,\n",
    "    label=\"v / m/s\",\n",
    "    vmin=0,\n",
    "    vmax=2,\n",
    "    title=\"Speed\",\n",
    ")\n",
    "fig.tight_layout(pad=2)\n",
    "plt.show()"
   ]
  },
  {
   "cell_type": "markdown",
   "metadata": {},
   "source": [
    "## Pedestrian Dynamics : Spatial Analysis \n",
    "This section corresponds to analysis method which can be used to characterise different crowds or group formations.\n",
    "These methods may include measurement of the time-to-collision, pair-distribution function and measurement of crowd polarization.\n"
   ]
  },
  {
   "cell_type": "markdown",
   "metadata": {},
   "source": [
    "### Pair-distibution function (PDF)\n",
    "This method is inspired from condensed matter description and used in the work of [Cordes et al. (2023)](https://doi.org/10.1093/pnasnexus/pgae120) following [Karamousas et al. (2014)](https://doi.org/10.1103/PhysRevLett.113.238701).\n",
    "The pair-distribution function (PDF): \n",
    "\n",
    "$$g(r)=P(r)/P_{Ni}(r)$$\n",
    "\n",
    "\"Quantifies the probability that two interacting pedestrians are found a given distance r apart, renormalized by the probability $P_{Ni}$ of measuring this distance for pedestrians that do not interact.\"\n",
    "\n",
    "This probability is approximated here by randomising the time information (randomisation of the time frames).\n",
    "\n",
    "The pair-distribution function of a given crowd recording can be computed using the following instructions:"
   ]
  },
  {
   "cell_type": "code",
   "execution_count": null,
   "metadata": {},
   "outputs": [],
   "source": [
    "from pedpy import compute_pair_distibution_function\n",
    "\n",
    "# Compute pair distribution function\n",
    "radius_bins, pair_distribution = compute_pair_distibution_function(\n",
    "    traj_data=traj, radius_bin_size=0.1, randomisation_stacking=1\n",
    ")"
   ]
  },
  {
   "cell_type": "code",
   "execution_count": null,
   "metadata": {
    "tags": [
     "hide-input"
    ]
   },
   "outputs": [],
   "source": [
    "import matplotlib.pyplot as plt\n",
    "\n",
    "fig, ax1 = plt.subplots(figsize=(5, 5))\n",
    "ax1.plot(radius_bins, pair_distribution)\n",
    "ax1.set_title(\"Pair Distribution Function\")\n",
    "ax1.set_xlabel(\"$r$\", fontsize=16)\n",
    "ax1.set_ylabel(\"$g(r)$\", fontsize=16)\n",
    "ax1.grid(True, alpha=0.3)\n",
    "plt.show()"
   ]
  },
  {
   "cell_type": "markdown",
   "metadata": {},
   "source": [
    "#### Parameters of the PDF\n",
    "\n",
    "The function `compute_pair_distibution_function` has two main parameters:\n",
    "- `radius_bin_size` is the size of the radius bins for which probability will be computed. On one hand a larger bin size results in smoother pdf but decreases the accuracy of the description, as more individuals can be detected in each bin. On the other hand, a smaller bin will increase the accuracy of the description but may lead to noisy or `Nan` values as each bin may not be populated (leading to invalid divisions). We suggest using a bin size value between 0.1 and 0.3 m as these values are close to order of magniture of a chest depth.\n",
    "- `randomisation_stacking` is the number of time the data stacked before being shuffled in order to compute the probability $P_{Ni}$ of measuring given pair-wise distances for pedestrians that do not interact. Stacking the data multiple times helps harmonize the random positions more effectively, ensuring that the PDF converges to results that are independent of the randomization method."
   ]
  },
  {
   "cell_type": "markdown",
   "metadata": {},
   "source": [
    "First we show the influence of varying `radius_bin_size` on the result:"
   ]
  },
  {
   "cell_type": "code",
   "execution_count": null,
   "metadata": {},
   "outputs": [],
   "source": [
    "from pedpy import compute_pair_distibution_function\n",
    "\n",
    "radius_bin_sizes = [0.05, 0.1, 0.25, 0.5]\n",
    "\n",
    "varying_radius_bin_sizes = [\n",
    "    (\n",
    "        i,\n",
    "        compute_pair_distibution_function(\n",
    "            traj_data=traj,\n",
    "            radius_bin_size=radius_bin_size,\n",
    "            randomisation_stacking=1,\n",
    "        ),\n",
    "    )\n",
    "    for i, radius_bin_size in enumerate(radius_bin_sizes)\n",
    "]"
   ]
  },
  {
   "cell_type": "markdown",
   "metadata": {},
   "source": [
    "And now how `randomisation_stacking` influences the result:"
   ]
  },
  {
   "cell_type": "code",
   "execution_count": null,
   "metadata": {},
   "outputs": [],
   "source": [
    "from pedpy import compute_pair_distibution_function\n",
    "from time import time\n",
    "\n",
    "randomisation_stackings = [1, 3, 5]\n",
    "\n",
    "varying_randomisation_stacking = []\n",
    "\n",
    "for i, randomisation_stacking in enumerate(randomisation_stackings):\n",
    "    begin_time = time()\n",
    "\n",
    "    pdf = compute_pair_distibution_function(\n",
    "        traj_data=traj,\n",
    "        radius_bin_size=0.15,\n",
    "        randomisation_stacking=randomisation_stacking,\n",
    "    )\n",
    "    end_time = time()\n",
    "\n",
    "    varying_randomisation_stacking.append((i, pdf, end_time - begin_time))"
   ]
  },
  {
   "cell_type": "markdown",
   "metadata": {},
   "source": [
    "These variations generate the following result:"
   ]
  },
  {
   "cell_type": "code",
   "execution_count": null,
   "metadata": {
    "tags": [
     "hide-input"
    ]
   },
   "outputs": [],
   "source": [
    "import matplotlib.pyplot as plt\n",
    "import numpy as np\n",
    "from matplotlib.cm import twilight\n",
    "\n",
    "cmap = twilight\n",
    "\n",
    "fig, (ax0, ax1) = plt.subplots(1, 2, figsize=(10, 5))\n",
    "ax0.set_title(\"Effect of `radius_bin_size`\")\n",
    "\n",
    "for i, pdf in varying_radius_bin_sizes:\n",
    "    radius_bins, pair_distribution = pdf\n",
    "    ax0.plot(\n",
    "        radius_bins,\n",
    "        pair_distribution,\n",
    "        color=twilight(i / len(varying_radius_bin_sizes)),\n",
    "        label=\"$r_{bin}=$\" + str(radius_bin_sizes[i]),\n",
    "    )\n",
    "\n",
    "ax0.set_ylim((0, 1.3))\n",
    "ax0.set_xlabel(\"$r$\", fontsize=16)\n",
    "ax0.set_ylabel(\"$g(r)$\", fontsize=16)\n",
    "ax0.grid(True, alpha=0.3)\n",
    "ax0.legend(title=\"Bin sizes\")\n",
    "\n",
    "ax1.set_title(\"Effect of 'randomisation_stacking'\")\n",
    "for i, pdf, time in varying_randomisation_stacking:\n",
    "    radius_bins, pair_distribution = pdf\n",
    "    ax1.plot(\n",
    "        radius_bins,\n",
    "        pair_distribution,\n",
    "        color=cmap(i / len(varying_randomisation_stacking)),\n",
    "        label=str(randomisation_stackings[i])\n",
    "        + \" times: \"\n",
    "        + str(np.round(time, 2))\n",
    "        + \"s\",\n",
    "    )\n",
    "ax1.set_ylim((0, 1.3))\n",
    "ax1.set_ylabel(\"$g(r)$\", fontsize=16)\n",
    "ax1.set_xlabel(\"$r$\", fontsize=16)\n",
    "ax1.grid(True, alpha=0.3)\n",
    "\n",
    "fig.tight_layout()\n",
    "ax1.legend(title=\"Nb of stacks: Execution time\")\n",
    "plt.show()"
   ]
  },
  {
   "cell_type": "markdown",
   "metadata": {
    "collapsed": false,
    "jupyter": {
     "outputs_hidden": false
    }
   },
   "source": [
    "## Preprocess the data\n",
    "\n",
    "Until now, we used complete trajectories, but sometimes not all the data is relevant for the analysis. \n",
    "If the data comes from larger simulation or experiments you may be only interested in data close to your region of interest or data in a specific time range.\n",
    "As *PedPy* builds up on *Pandas* as data container, the filtering methods from *Pandas* can also be used here.\n",
    "More information on filtering and merging with *Pandas* can be found here: [filtering](https://pandas.pydata.org/pandas-docs/version/2.0/user_guide/indexing.html) & [merging](https://pandas.pydata.org/pandas-docs/version/2.0/user_guide/merging.html)."
   ]
  },
  {
   "cell_type": "markdown",
   "metadata": {},
   "source": [
    "### Geometric filtering\n",
    "\n",
    "First, we want to filter the data by geometrical principles, therefor we combine the capabilities of *Pandas* and *Shapely*. "
   ]
  },
  {
   "cell_type": "markdown",
   "metadata": {},
   "source": [
    "#### Data inside Polygon\n",
    "\n",
    "In the first case, we are only interested in {class}`trajectory data<trajectory_data.TrajectoryData>` inside the known {class}`measurement area <geometry.MeasurementArea>`. "
   ]
  },
  {
   "cell_type": "code",
   "execution_count": null,
   "metadata": {
    "collapsed": false,
    "jupyter": {
     "outputs_hidden": false
    }
   },
   "outputs": [],
   "source": [
    "import shapely\n",
    "\n",
    "bottleneck = shapely.Polygon([(0.25, 0), (0.25, -1), (-0.25, -1), (-0.25, 0)])\n",
    "leaving_area = shapely.Polygon([(-3, -1), (-3, -2), (3, -2), (3, -1)])"
   ]
  },
  {
   "cell_type": "code",
   "execution_count": null,
   "metadata": {},
   "outputs": [],
   "source": [
    "data_inside_ma = traj.data[shapely.within(traj.data.point, bottleneck)]"
   ]
  },
  {
   "cell_type": "code",
   "execution_count": null,
   "metadata": {
    "tags": [
     "hide-input"
    ]
   },
   "outputs": [],
   "source": [
    "from pedpy import plot_measurement_setup\n",
    "import matplotlib.pyplot as plt\n",
    "\n",
    "ax = plot_measurement_setup(\n",
    "    traj=TrajectoryData(data_inside_ma, frame_rate=traj.frame_rate),\n",
    "    walkable_area=walkable_area,\n",
    "    measurement_areas=[MeasurementArea(bottleneck)],\n",
    "    traj_alpha=0.7,\n",
    "    traj_width=0.4,\n",
    "    ml_width=1,\n",
    "    ma_alpha=0.1,\n",
    "    ma_line_width=1,\n",
    ")\n",
    "ax.set_xlim([-0.75, 0.75])\n",
    "ax.set_ylim([-1.5, 0.5])\n",
    "ax.set_aspect(\"equal\")\n",
    "plt.show()"
   ]
  },
  {
   "cell_type": "markdown",
   "metadata": {},
   "source": [
    "#### Data outside Polygon\n",
    "\n",
    "Secondly, we want to filter the data, such that the result contains only data which is outside a given area. \n",
    "In our case we want to remove all data behind the bottleneck, here called leaving area:"
   ]
  },
  {
   "cell_type": "code",
   "execution_count": null,
   "metadata": {},
   "outputs": [],
   "source": [
    "data_outside_leaving_area = traj.data[\n",
    "    ~shapely.within(traj.data.point, leaving_area)\n",
    "]"
   ]
  },
  {
   "cell_type": "code",
   "execution_count": null,
   "metadata": {
    "tags": [
     "hide-input"
    ]
   },
   "outputs": [],
   "source": [
    "from pedpy import plot_measurement_setup\n",
    "import matplotlib.pyplot as plt\n",
    "\n",
    "ax = plot_measurement_setup(\n",
    "    traj=TrajectoryData(data_outside_leaving_area, frame_rate=traj.frame_rate),\n",
    "    walkable_area=walkable_area,\n",
    "    measurement_areas=[MeasurementArea(leaving_area)],\n",
    "    traj_alpha=0.7,\n",
    "    traj_width=0.4,\n",
    "    ml_width=1,\n",
    "    ma_alpha=0.1,\n",
    "    ma_line_width=1,\n",
    ").set_aspect(\"equal\")\n",
    "\n",
    "plt.show()"
   ]
  },
  {
   "cell_type": "markdown",
   "metadata": {},
   "source": [
    "#### Data close to line\n",
    "\n",
    "It is not only possible to check whether a point is within a given polygon, it is also possible to check if the distance to a given geometrical object is below a given threshold.\n",
    "Here we want all the data that is within 1m of the {class}`measurement line <geometry.MeasurementLine>` at the entrance of the bottleneck: "
   ]
  },
  {
   "cell_type": "code",
   "execution_count": null,
   "metadata": {},
   "outputs": [],
   "source": [
    "data_close_ma = traj.data[\n",
    "    shapely.dwithin(traj.data.point, measurement_line.line, 1)\n",
    "]"
   ]
  },
  {
   "cell_type": "code",
   "execution_count": null,
   "metadata": {
    "tags": [
     "hide-input"
    ]
   },
   "outputs": [],
   "source": [
    "from pedpy import plot_measurement_setup\n",
    "import matplotlib.pyplot as plt\n",
    "\n",
    "ax = plot_measurement_setup(\n",
    "    traj=TrajectoryData(data_close_ma, frame_rate=traj.frame_rate),\n",
    "    walkable_area=walkable_area,\n",
    "    measurement_lines=[measurement_line],\n",
    "    traj_alpha=0.7,\n",
    "    traj_width=0.4,\n",
    "    ml_width=1,\n",
    "    ma_alpha=0.1,\n",
    "    ma_line_width=1,\n",
    ")\n",
    "ax.set_xlim([-1.5, 1.5])\n",
    "ax.set_ylim([-2.5, 1.5])\n",
    "ax.set_aspect(\"equal\")\n",
    "plt.show()"
   ]
  },
  {
   "cell_type": "markdown",
   "metadata": {},
   "source": [
    "### Time based filtering\n",
    "\n",
    "It is not only possible to filter the data by geometrical means, but also depending on time information.\n",
    "In experiments, you might only be interested in steady state data, this can be also be achieved by slicing the data:"
   ]
  },
  {
   "cell_type": "code",
   "execution_count": null,
   "metadata": {},
   "outputs": [],
   "source": [
    "traj_data_frame_range = traj[300:600]"
   ]
  },
  {
   "cell_type": "code",
   "execution_count": null,
   "metadata": {
    "tags": [
     "hide-input"
    ]
   },
   "outputs": [],
   "source": [
    "from pedpy import plot_measurement_setup\n",
    "import matplotlib.pyplot as plt\n",
    "\n",
    "plot_measurement_setup(\n",
    "    traj=traj_data_frame_range,\n",
    "    walkable_area=walkable_area,\n",
    "    traj_alpha=0.7,\n",
    "    traj_width=0.4,\n",
    ").set_aspect(\"equal\")\n",
    "\n",
    "plt.show()"
   ]
  },
  {
   "cell_type": "markdown",
   "metadata": {},
   "source": [
    "Alternatively, you could also utilise the Pandas filtering methods:"
   ]
  },
  {
   "cell_type": "code",
   "execution_count": null,
   "metadata": {},
   "outputs": [],
   "source": [
    "data_frame_range = traj.data[\n",
    "    traj.data.frame.between(300, 600, inclusive=\"both\")\n",
    "]"
   ]
  },
  {
   "cell_type": "code",
   "execution_count": null,
   "metadata": {
    "tags": [
     "hide-input"
    ]
   },
   "outputs": [],
   "source": [
    "from pedpy import plot_measurement_setup\n",
    "import matplotlib.pyplot as plt\n",
    "\n",
    "plot_measurement_setup(\n",
    "    traj=TrajectoryData(data_frame_range, frame_rate=traj.frame_rate),\n",
    "    walkable_area=walkable_area,\n",
    "    traj_alpha=0.7,\n",
    "    traj_width=0.4,\n",
    ").set_aspect(\"equal\")\n",
    "\n",
    "plt.show()"
   ]
  },
  {
   "cell_type": "markdown",
   "metadata": {
    "collapsed": false,
    "jupyter": {
     "outputs_hidden": false
    }
   },
   "source": [
    "### ID based filtering\n",
    "\n",
    "It is also possible to filter the data in a way that only specific pedestrians are contained:"
   ]
  },
  {
   "cell_type": "code",
   "execution_count": null,
   "metadata": {
    "collapsed": false,
    "jupyter": {
     "outputs_hidden": false
    }
   },
   "outputs": [],
   "source": [
    "data_id = traj.data[traj.data.id == 20]"
   ]
  },
  {
   "cell_type": "code",
   "execution_count": null,
   "metadata": {
    "collapsed": false,
    "jupyter": {
     "outputs_hidden": false
    },
    "tags": [
     "hide-input"
    ]
   },
   "outputs": [],
   "source": [
    "from pedpy import plot_measurement_setup\n",
    "import matplotlib.pyplot as plt\n",
    "\n",
    "plot_measurement_setup(\n",
    "    traj=TrajectoryData(data_id, frame_rate=traj.frame_rate),\n",
    "    walkable_area=walkable_area,\n",
    "    traj_alpha=0.7,\n",
    "    traj_width=0.4,\n",
    ").set_aspect(\"equal\")\n",
    "plt.show()"
   ]
  },
  {
   "cell_type": "markdown",
   "metadata": {
    "collapsed": false,
    "jupyter": {
     "outputs_hidden": false
    }
   },
   "source": [
    "It is also possible to filter for multiple ids:"
   ]
  },
  {
   "cell_type": "code",
   "execution_count": null,
   "metadata": {
    "collapsed": false,
    "jupyter": {
     "outputs_hidden": false
    }
   },
   "outputs": [],
   "source": [
    "ids = [10, 20, 30, 40]\n",
    "data_id = traj.data[traj.data.id.isin(ids)]"
   ]
  },
  {
   "cell_type": "code",
   "execution_count": null,
   "metadata": {
    "collapsed": false,
    "jupyter": {
     "outputs_hidden": false
    },
    "tags": [
     "hide-input"
    ]
   },
   "outputs": [],
   "source": [
    "from pedpy import plot_measurement_setup\n",
    "import matplotlib.pyplot as plt\n",
    "\n",
    "plot_measurement_setup(\n",
    "    traj=TrajectoryData(data_id, frame_rate=traj.frame_rate),\n",
    "    walkable_area=walkable_area,\n",
    "    traj_alpha=0.7,\n",
    "    traj_width=0.4,\n",
    ").set_aspect(\"equal\")\n",
    "\n",
    "plt.show()"
   ]
  },
  {
   "cell_type": "markdown",
   "metadata": {
    "collapsed": false,
    "jupyter": {
     "outputs_hidden": false
    }
   },
   "source": [
    "## What to do with the results?\n",
    "\n",
    "Now we have completed our analysis, what can be done to \n",
    "\n",
    "- access specific columns\n",
    "- combine for further analysis\n",
    "- save results"
   ]
  },
  {
   "cell_type": "markdown",
   "metadata": {},
   "source": [
    "### Access specific columns\n",
    "\n",
    "In order to access a specific column of the computed results or the {class}`trajectory data<trajectory_data.TrajectoryData>` *PedPy* provides all the column names for access.\n",
    "It is highly encouraged to use these identifiers instead of using the column names directly, as the identifier would be updated, if they change. \n",
    "A list of all identifiers can be found in the [API reference](api_column_identifier)."
   ]
  },
  {
   "cell_type": "code",
   "execution_count": null,
   "metadata": {},
   "outputs": [],
   "source": [
    "from pedpy.column_identifier import *\n",
    "\n",
    "# Access with column identifier\n",
    "traj.data[[ID_COL, FRAME_COL, POINT_COL]]"
   ]
  },
  {
   "cell_type": "code",
   "execution_count": null,
   "metadata": {},
   "outputs": [],
   "source": [
    "# Access with column names\n",
    "traj.data[[\"id\", \"frame\", \"point\"]]"
   ]
  },
  {
   "cell_type": "markdown",
   "metadata": {
    "collapsed": false,
    "jupyter": {
     "outputs_hidden": false
    }
   },
   "source": [
    "### Combine multiple DataFrames\n",
    "\n",
    "From the analysis we have one {class}`~pandas.DataFrame` containing the {class}`trajectory data<trajectory_data.TrajectoryData>`:"
   ]
  },
  {
   "cell_type": "code",
   "execution_count": null,
   "metadata": {
    "collapsed": false,
    "jupyter": {
     "outputs_hidden": false
    }
   },
   "outputs": [],
   "source": [
    "traj.data"
   ]
  },
  {
   "cell_type": "markdown",
   "metadata": {
    "collapsed": false,
    "jupyter": {
     "outputs_hidden": false
    }
   },
   "source": [
    "and one containing the individual Voronoi data:"
   ]
  },
  {
   "cell_type": "code",
   "execution_count": null,
   "metadata": {
    "collapsed": false,
    "jupyter": {
     "outputs_hidden": false
    }
   },
   "outputs": [],
   "source": [
    "individual"
   ]
  },
  {
   "cell_type": "markdown",
   "metadata": {
    "collapsed": false,
    "jupyter": {
     "outputs_hidden": false
    }
   },
   "source": [
    "As both have the columns 'id' and 'frame' in common, these can be used to merge the dataframes.\n",
    "See {func}`pandas.merge` and {meth}`pandas.DataFrame.merge` for more information on how {class}`DataFrames <pandas.DataFrame>` can be merged."
   ]
  },
  {
   "cell_type": "code",
   "execution_count": null,
   "metadata": {
    "collapsed": false,
    "jupyter": {
     "outputs_hidden": false
    }
   },
   "outputs": [],
   "source": [
    "data_with_voronoi_cells = traj.data.merge(intersecting, on=[ID_COL, FRAME_COL])\n",
    "data_with_voronoi_cells"
   ]
  },
  {
   "cell_type": "code",
   "execution_count": null,
   "metadata": {
    "collapsed": false,
    "jupyter": {
     "outputs_hidden": false
    }
   },
   "outputs": [],
   "source": [
    "from pedpy.column_identifier import SPEED_COL\n",
    "\n",
    "data_with_voronoi_cells_speed = data_with_voronoi_cells.merge(\n",
    "    individual_speed[[ID_COL, FRAME_COL, SPEED_COL]], on=[ID_COL, FRAME_COL]\n",
    ")\n",
    "data_with_voronoi_cells_speed"
   ]
  },
  {
   "cell_type": "markdown",
   "metadata": {
    "collapsed": false,
    "jupyter": {
     "outputs_hidden": false
    }
   },
   "source": [
    "### Save in files\n",
    "\n",
    "For preserving the results on the disk, the results need to be saved on the disk.\n",
    "This can be done with the build-in functions from *Pandas*."
   ]
  },
  {
   "cell_type": "markdown",
   "metadata": {
    "collapsed": false,
    "jupyter": {
     "outputs_hidden": false
    }
   },
   "source": [
    "#### Create directories to store the results\n",
    "\n",
    "First we create a directory, where we want to save the results.\n",
    "This step is optional!"
   ]
  },
  {
   "cell_type": "code",
   "execution_count": null,
   "metadata": {
    "collapsed": false,
    "jupyter": {
     "outputs_hidden": false
    }
   },
   "outputs": [],
   "source": [
    "pathlib.Path(\"results_introduction/profiles/speed\").mkdir(\n",
    "    parents=True, exist_ok=True\n",
    ")\n",
    "pathlib.Path(\"results_introduction/profiles/density\").mkdir(\n",
    "    parents=True, exist_ok=True\n",
    ")\n",
    "\n",
    "results_directory = pathlib.Path(\"results_introduction\")"
   ]
  },
  {
   "cell_type": "markdown",
   "metadata": {
    "collapsed": false,
    "jupyter": {
     "outputs_hidden": false
    }
   },
   "source": [
    "#### Save Pandas DataFrame (result from everything but profiles) as csv\n",
    "\n",
    "Now, a {class}`~pandas.DataFrame` can be saved as `csv` with:"
   ]
  },
  {
   "cell_type": "code",
   "execution_count": null,
   "metadata": {
    "collapsed": false,
    "jupyter": {
     "outputs_hidden": false
    }
   },
   "outputs": [],
   "source": [
    "from pedpy.column_identifier import (\n",
    "    X_COL,\n",
    "    Y_COL,\n",
    "    DENSITY_COL,\n",
    "    INTERSECTION_COL,\n",
    "    POLYGON_COL,\n",
    ")\n",
    "import csv\n",
    "\n",
    "with open(\n",
    "    results_directory / \"individual_result.csv\", \"w\"\n",
    ") as individual_output_file:\n",
    "    individual_output_file.write(f\"#framerate:\t{traj.frame_rate}\\n\\n\")\n",
    "    data_with_voronoi_cells_speed[\n",
    "        [\n",
    "            ID_COL,\n",
    "            FRAME_COL,\n",
    "            X_COL,\n",
    "            Y_COL,\n",
    "            DENSITY_COL,\n",
    "            SPEED_COL,\n",
    "            POLYGON_COL,\n",
    "            INTERSECTION_COL,\n",
    "        ]\n",
    "    ].to_csv(\n",
    "        individual_output_file,\n",
    "        mode=\"a\",\n",
    "        header=True,\n",
    "        sep=\"\\t\",\n",
    "        index_label=False,\n",
    "        index=False,\n",
    "        quoting=csv.QUOTE_NONNUMERIC,\n",
    "    )"
   ]
  },
  {
   "cell_type": "markdown",
   "metadata": {
    "collapsed": false,
    "jupyter": {
     "outputs_hidden": false
    }
   },
   "source": [
    "#### Save numpy arrays (result from profiles) as txt\n",
    "\n",
    "The profiles are returned as Numpy arrays, which also provide a build-in save function, which allows to save the arrays as txt format:"
   ]
  },
  {
   "cell_type": "code",
   "execution_count": null,
   "metadata": {
    "collapsed": false,
    "jupyter": {
     "outputs_hidden": false
    }
   },
   "outputs": [],
   "source": [
    "results_directory_density = results_directory / \"profiles/density\"\n",
    "results_directory_speed = results_directory / \"profiles/speed\"\n",
    "\n",
    "for i in range(len(range(min_frame_profiles, min_frame_profiles + 10))):\n",
    "    frame = min_frame_profiles + i\n",
    "    np.savetxt(\n",
    "        results_directory_density / f\"density_frame_{frame:05d}.txt\",\n",
    "        density_profiles[i],\n",
    "    )\n",
    "    np.savetxt(\n",
    "        results_directory_speed / f\"speed_frame_{frame:05d}.txt\",\n",
    "        speed_profiles[i],\n",
    "    )"
   ]
  }
 ],
 "metadata": {
  "kernelspec": {
   "display_name": "Python 3 (ipykernel)",
   "language": "python",
   "name": "python3"
  },
  "language_info": {
   "codemirror_mode": {
    "name": "ipython",
    "version": 3
   },
   "file_extension": ".py",
   "mimetype": "text/x-python",
   "name": "python",
   "nbconvert_exporter": "python",
   "pygments_lexer": "ipython3",
   "version": "3.10.11"
  }
 },
 "nbformat": 4,
 "nbformat_minor": 4
}
